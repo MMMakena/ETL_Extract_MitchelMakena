{
 "cells": [
  {
   "cell_type": "markdown",
   "id": "b2116ef6",
   "metadata": {},
   "source": []
  },
  {
   "cell_type": "code",
   "execution_count": 32,
   "id": "f3f209aa",
   "metadata": {},
   "outputs": [
    {
     "data": {
      "application/vnd.microsoft.datawrangler.viewer.v0+json": {
       "columns": [
        {
         "name": "index",
         "rawType": "int64",
         "type": "integer"
        },
        {
         "name": "event_id",
         "rawType": "object",
         "type": "string"
        },
        {
         "name": "event_type",
         "rawType": "object",
         "type": "string"
        },
        {
         "name": "event_date",
         "rawType": "datetime64[ns]",
         "type": "datetime"
        },
        {
         "name": "location",
         "rawType": "object",
         "type": "string"
        },
        {
         "name": "attendees",
         "rawType": "int64",
         "type": "integer"
        },
        {
         "name": "duration_hours",
         "rawType": "int64",
         "type": "integer"
        },
        {
         "name": "cost_per_attendee",
         "rawType": "float64",
         "type": "float"
        },
        {
         "name": "sponsor",
         "rawType": "object",
         "type": "string"
        },
        {
         "name": "feedback_score",
         "rawType": "float64",
         "type": "float"
        },
        {
         "name": "last_extraction",
         "rawType": "datetime64[ns]",
         "type": "datetime"
        }
       ],
       "ref": "35aee360-95af-4348-8af4-ac81a8bf2d99",
       "rows": [
        [
         "0",
         "event_1",
         "concert",
         "2026-05-23 14:27:19.434752",
         "New York",
         "148",
         "5",
         "328.8",
         "None",
         "2.6610340063004725",
         "2025-05-13 14:27:19.434752"
        ],
        [
         "1",
         "event_2",
         "workshop",
         "2026-05-06 14:27:19.434752",
         "Houston",
         "498",
         "2",
         "376.13",
         "Company B",
         "2.904821060501572",
         "2025-06-03 14:27:19.434752"
        ],
        [
         "2",
         "event_3",
         "webinar",
         "2025-06-11 14:27:19.434752",
         "Los Angeles",
         "375",
         "2",
         "218.69",
         "Company B",
         "2.9085082250862833",
         "2025-05-27 14:27:19.434752"
        ],
        [
         "3",
         "event_4",
         "webinar",
         "2025-12-29 14:27:19.434752",
         "Houston",
         "382",
         "1",
         "140.38",
         "Company A",
         "3.4202186032103623",
         "2025-05-23 14:27:19.434752"
        ],
        [
         "4",
         "event_5",
         "concert",
         "2026-01-10 14:27:19.434752",
         "New York",
         "346",
         "3",
         "318.18",
         "Company B",
         "3.2583017350206105",
         "2025-05-24 14:27:19.434752"
        ]
       ],
       "shape": {
        "columns": 10,
        "rows": 5
       }
      },
      "text/html": [
       "<div>\n",
       "<style scoped>\n",
       "    .dataframe tbody tr th:only-of-type {\n",
       "        vertical-align: middle;\n",
       "    }\n",
       "\n",
       "    .dataframe tbody tr th {\n",
       "        vertical-align: top;\n",
       "    }\n",
       "\n",
       "    .dataframe thead th {\n",
       "        text-align: right;\n",
       "    }\n",
       "</style>\n",
       "<table border=\"1\" class=\"dataframe\">\n",
       "  <thead>\n",
       "    <tr style=\"text-align: right;\">\n",
       "      <th></th>\n",
       "      <th>event_id</th>\n",
       "      <th>event_type</th>\n",
       "      <th>event_date</th>\n",
       "      <th>location</th>\n",
       "      <th>attendees</th>\n",
       "      <th>duration_hours</th>\n",
       "      <th>cost_per_attendee</th>\n",
       "      <th>sponsor</th>\n",
       "      <th>feedback_score</th>\n",
       "      <th>last_extraction</th>\n",
       "    </tr>\n",
       "  </thead>\n",
       "  <tbody>\n",
       "    <tr>\n",
       "      <th>0</th>\n",
       "      <td>event_1</td>\n",
       "      <td>concert</td>\n",
       "      <td>2026-05-23 14:27:19.434752</td>\n",
       "      <td>New York</td>\n",
       "      <td>148</td>\n",
       "      <td>5</td>\n",
       "      <td>328.80</td>\n",
       "      <td>None</td>\n",
       "      <td>2.661034</td>\n",
       "      <td>2025-05-13 14:27:19.434752</td>\n",
       "    </tr>\n",
       "    <tr>\n",
       "      <th>1</th>\n",
       "      <td>event_2</td>\n",
       "      <td>workshop</td>\n",
       "      <td>2026-05-06 14:27:19.434752</td>\n",
       "      <td>Houston</td>\n",
       "      <td>498</td>\n",
       "      <td>2</td>\n",
       "      <td>376.13</td>\n",
       "      <td>Company B</td>\n",
       "      <td>2.904821</td>\n",
       "      <td>2025-06-03 14:27:19.434752</td>\n",
       "    </tr>\n",
       "    <tr>\n",
       "      <th>2</th>\n",
       "      <td>event_3</td>\n",
       "      <td>webinar</td>\n",
       "      <td>2025-06-11 14:27:19.434752</td>\n",
       "      <td>Los Angeles</td>\n",
       "      <td>375</td>\n",
       "      <td>2</td>\n",
       "      <td>218.69</td>\n",
       "      <td>Company B</td>\n",
       "      <td>2.908508</td>\n",
       "      <td>2025-05-27 14:27:19.434752</td>\n",
       "    </tr>\n",
       "    <tr>\n",
       "      <th>3</th>\n",
       "      <td>event_4</td>\n",
       "      <td>webinar</td>\n",
       "      <td>2025-12-29 14:27:19.434752</td>\n",
       "      <td>Houston</td>\n",
       "      <td>382</td>\n",
       "      <td>1</td>\n",
       "      <td>140.38</td>\n",
       "      <td>Company A</td>\n",
       "      <td>3.420219</td>\n",
       "      <td>2025-05-23 14:27:19.434752</td>\n",
       "    </tr>\n",
       "    <tr>\n",
       "      <th>4</th>\n",
       "      <td>event_5</td>\n",
       "      <td>concert</td>\n",
       "      <td>2026-01-10 14:27:19.434752</td>\n",
       "      <td>New York</td>\n",
       "      <td>346</td>\n",
       "      <td>3</td>\n",
       "      <td>318.18</td>\n",
       "      <td>Company B</td>\n",
       "      <td>3.258302</td>\n",
       "      <td>2025-05-24 14:27:19.434752</td>\n",
       "    </tr>\n",
       "  </tbody>\n",
       "</table>\n",
       "</div>"
      ],
      "text/plain": [
       "  event_id event_type                 event_date     location  attendees  \\\n",
       "0  event_1    concert 2026-05-23 14:27:19.434752     New York        148   \n",
       "1  event_2   workshop 2026-05-06 14:27:19.434752      Houston        498   \n",
       "2  event_3    webinar 2025-06-11 14:27:19.434752  Los Angeles        375   \n",
       "3  event_4    webinar 2025-12-29 14:27:19.434752      Houston        382   \n",
       "4  event_5    concert 2026-01-10 14:27:19.434752     New York        346   \n",
       "\n",
       "   duration_hours  cost_per_attendee    sponsor  feedback_score  \\\n",
       "0               5             328.80       None        2.661034   \n",
       "1               2             376.13  Company B        2.904821   \n",
       "2               2             218.69  Company B        2.908508   \n",
       "3               1             140.38  Company A        3.420219   \n",
       "4               3             318.18  Company B        3.258302   \n",
       "\n",
       "             last_extraction  \n",
       "0 2025-05-13 14:27:19.434752  \n",
       "1 2025-06-03 14:27:19.434752  \n",
       "2 2025-05-27 14:27:19.434752  \n",
       "3 2025-05-23 14:27:19.434752  \n",
       "4 2025-05-24 14:27:19.434752  "
      ]
     },
     "execution_count": 32,
     "metadata": {},
     "output_type": "execute_result"
    }
   ],
   "source": [
    "# Getting dataset for event management system\n",
    "import pandas as pd\n",
    "import numpy as np\n",
    "from datetime import datetime, timedelta\n",
    "import random\n",
    "\n",
    "# Simulate data of 50 events with random attributes\n",
    "num_events = 50\n",
    "data = {\n",
    "    'event_id': [f'event_{i+1}' for i in range(num_events)],\n",
    "    'event_type': [random.choice(['concert', 'conference', 'workshop', 'webinar']) for _ in range(num_events)],\n",
    "    'event_date': [datetime.now() + timedelta(days=random.randint(1, 365)) for _ in range(num_events)],\n",
    "    'location': [random.choice(['New York', 'Los Angeles', 'Chicago', 'Houston', 'Phoenix']) for _ in range(num_events)],\n",
    "    'attendees': [random.randint(50, 500) for _ in range(num_events)],\n",
    "    'duration_hours': [random.randint(1, 8) for _ in range(num_events)],\n",
    "    'cost_per_attendee': [round(random.uniform(10.0, 500.0), 2) for _ in range(num_events)],\n",
    "    'sponsor': [random.choice(['Company A', 'Company B', 'Company C', 'None']) for _ in range(num_events)],\n",
    "    'feedback_score': [random.uniform(1.0, 5.0) for _ in range(num_events)],\n",
    "    'last_extraction': [datetime.now() - timedelta(days=random.randint(0, 30)) for _ in range(num_events)],\n",
    "}\n",
    "df = pd.DataFrame(data)\n",
    "df.to_csv('event_dataset.csv', index=False)\n",
    "df.head()   \n"
   ]
  },
  {
   "cell_type": "markdown",
   "id": "607ba331",
   "metadata": {},
   "source": [
    "# FULL Extraction"
   ]
  },
  {
   "cell_type": "code",
   "execution_count": 33,
   "id": "3c0182f6",
   "metadata": {},
   "outputs": [
    {
     "name": "stdout",
     "output_type": "stream",
     "text": [
      "Extracted 50 rows fully.\n"
     ]
    },
    {
     "data": {
      "application/vnd.microsoft.datawrangler.viewer.v0+json": {
       "columns": [
        {
         "name": "index",
         "rawType": "int64",
         "type": "integer"
        },
        {
         "name": "event_id",
         "rawType": "object",
         "type": "string"
        },
        {
         "name": "event_type",
         "rawType": "object",
         "type": "string"
        },
        {
         "name": "event_date",
         "rawType": "object",
         "type": "string"
        },
        {
         "name": "location",
         "rawType": "object",
         "type": "string"
        },
        {
         "name": "attendees",
         "rawType": "int64",
         "type": "integer"
        },
        {
         "name": "duration_hours",
         "rawType": "int64",
         "type": "integer"
        },
        {
         "name": "cost_per_attendee",
         "rawType": "float64",
         "type": "float"
        },
        {
         "name": "sponsor",
         "rawType": "object",
         "type": "unknown"
        },
        {
         "name": "feedback_score",
         "rawType": "float64",
         "type": "float"
        },
        {
         "name": "last_extraction",
         "rawType": "datetime64[ns]",
         "type": "datetime"
        }
       ],
       "ref": "240c8295-5cb7-4314-a974-d5e5cf253271",
       "rows": [
        [
         "0",
         "event_1",
         "concert",
         "2026-05-23 14:27:19.434752",
         "New York",
         "148",
         "5",
         "328.8",
         null,
         "2.6610340063004725",
         "2025-05-13 14:27:19.434752"
        ],
        [
         "1",
         "event_2",
         "workshop",
         "2026-05-06 14:27:19.434752",
         "Houston",
         "498",
         "2",
         "376.13",
         "Company B",
         "2.904821060501572",
         "2025-06-03 14:27:19.434752"
        ],
        [
         "2",
         "event_3",
         "webinar",
         "2025-06-11 14:27:19.434752",
         "Los Angeles",
         "375",
         "2",
         "218.69",
         "Company B",
         "2.9085082250862837",
         "2025-05-27 14:27:19.434752"
        ],
        [
         "3",
         "event_4",
         "webinar",
         "2025-12-29 14:27:19.434752",
         "Houston",
         "382",
         "1",
         "140.38",
         "Company A",
         "3.4202186032103623",
         "2025-05-23 14:27:19.434752"
        ],
        [
         "4",
         "event_5",
         "concert",
         "2026-01-10 14:27:19.434752",
         "New York",
         "346",
         "3",
         "318.18",
         "Company B",
         "3.2583017350206105",
         "2025-05-24 14:27:19.434752"
        ]
       ],
       "shape": {
        "columns": 10,
        "rows": 5
       }
      },
      "text/html": [
       "<div>\n",
       "<style scoped>\n",
       "    .dataframe tbody tr th:only-of-type {\n",
       "        vertical-align: middle;\n",
       "    }\n",
       "\n",
       "    .dataframe tbody tr th {\n",
       "        vertical-align: top;\n",
       "    }\n",
       "\n",
       "    .dataframe thead th {\n",
       "        text-align: right;\n",
       "    }\n",
       "</style>\n",
       "<table border=\"1\" class=\"dataframe\">\n",
       "  <thead>\n",
       "    <tr style=\"text-align: right;\">\n",
       "      <th></th>\n",
       "      <th>event_id</th>\n",
       "      <th>event_type</th>\n",
       "      <th>event_date</th>\n",
       "      <th>location</th>\n",
       "      <th>attendees</th>\n",
       "      <th>duration_hours</th>\n",
       "      <th>cost_per_attendee</th>\n",
       "      <th>sponsor</th>\n",
       "      <th>feedback_score</th>\n",
       "      <th>last_extraction</th>\n",
       "    </tr>\n",
       "  </thead>\n",
       "  <tbody>\n",
       "    <tr>\n",
       "      <th>0</th>\n",
       "      <td>event_1</td>\n",
       "      <td>concert</td>\n",
       "      <td>2026-05-23 14:27:19.434752</td>\n",
       "      <td>New York</td>\n",
       "      <td>148</td>\n",
       "      <td>5</td>\n",
       "      <td>328.80</td>\n",
       "      <td>NaN</td>\n",
       "      <td>2.661034</td>\n",
       "      <td>2025-05-13 14:27:19.434752</td>\n",
       "    </tr>\n",
       "    <tr>\n",
       "      <th>1</th>\n",
       "      <td>event_2</td>\n",
       "      <td>workshop</td>\n",
       "      <td>2026-05-06 14:27:19.434752</td>\n",
       "      <td>Houston</td>\n",
       "      <td>498</td>\n",
       "      <td>2</td>\n",
       "      <td>376.13</td>\n",
       "      <td>Company B</td>\n",
       "      <td>2.904821</td>\n",
       "      <td>2025-06-03 14:27:19.434752</td>\n",
       "    </tr>\n",
       "    <tr>\n",
       "      <th>2</th>\n",
       "      <td>event_3</td>\n",
       "      <td>webinar</td>\n",
       "      <td>2025-06-11 14:27:19.434752</td>\n",
       "      <td>Los Angeles</td>\n",
       "      <td>375</td>\n",
       "      <td>2</td>\n",
       "      <td>218.69</td>\n",
       "      <td>Company B</td>\n",
       "      <td>2.908508</td>\n",
       "      <td>2025-05-27 14:27:19.434752</td>\n",
       "    </tr>\n",
       "    <tr>\n",
       "      <th>3</th>\n",
       "      <td>event_4</td>\n",
       "      <td>webinar</td>\n",
       "      <td>2025-12-29 14:27:19.434752</td>\n",
       "      <td>Houston</td>\n",
       "      <td>382</td>\n",
       "      <td>1</td>\n",
       "      <td>140.38</td>\n",
       "      <td>Company A</td>\n",
       "      <td>3.420219</td>\n",
       "      <td>2025-05-23 14:27:19.434752</td>\n",
       "    </tr>\n",
       "    <tr>\n",
       "      <th>4</th>\n",
       "      <td>event_5</td>\n",
       "      <td>concert</td>\n",
       "      <td>2026-01-10 14:27:19.434752</td>\n",
       "      <td>New York</td>\n",
       "      <td>346</td>\n",
       "      <td>3</td>\n",
       "      <td>318.18</td>\n",
       "      <td>Company B</td>\n",
       "      <td>3.258302</td>\n",
       "      <td>2025-05-24 14:27:19.434752</td>\n",
       "    </tr>\n",
       "  </tbody>\n",
       "</table>\n",
       "</div>"
      ],
      "text/plain": [
       "  event_id event_type                  event_date     location  attendees  \\\n",
       "0  event_1    concert  2026-05-23 14:27:19.434752     New York        148   \n",
       "1  event_2   workshop  2026-05-06 14:27:19.434752      Houston        498   \n",
       "2  event_3    webinar  2025-06-11 14:27:19.434752  Los Angeles        375   \n",
       "3  event_4    webinar  2025-12-29 14:27:19.434752      Houston        382   \n",
       "4  event_5    concert  2026-01-10 14:27:19.434752     New York        346   \n",
       "\n",
       "   duration_hours  cost_per_attendee    sponsor  feedback_score  \\\n",
       "0               5             328.80        NaN        2.661034   \n",
       "1               2             376.13  Company B        2.904821   \n",
       "2               2             218.69  Company B        2.908508   \n",
       "3               1             140.38  Company A        3.420219   \n",
       "4               3             318.18  Company B        3.258302   \n",
       "\n",
       "             last_extraction  \n",
       "0 2025-05-13 14:27:19.434752  \n",
       "1 2025-06-03 14:27:19.434752  \n",
       "2 2025-05-27 14:27:19.434752  \n",
       "3 2025-05-23 14:27:19.434752  \n",
       "4 2025-05-24 14:27:19.434752  "
      ]
     },
     "execution_count": 33,
     "metadata": {},
     "output_type": "execute_result"
    }
   ],
   "source": [
    "# Full Extraction\n",
    "df_full = pd.read_csv(\"event_dataset.csv\", parse_dates=[\"last_extraction\"])\n",
    "print(f\"Extracted {len(df_full)} rows fully.\")\n",
    "df_full.head()"
   ]
  },
  {
   "cell_type": "markdown",
   "id": "82394a91",
   "metadata": {},
   "source": [
    "# INCREMENTAL Extraction"
   ]
  },
  {
   "cell_type": "code",
   "execution_count": 45,
   "id": "cd566ea6",
   "metadata": {},
   "outputs": [],
   "source": [
    "# Set initial last extraction time (e.g., halfway through the data range)\n",
    "with open(\"last_extraction.txt\", \"w\") as f:\n",
    "    f.write(\"2025-06-04 12:00:00\") "
   ]
  },
  {
   "cell_type": "code",
   "execution_count": 46,
   "id": "21734fc2",
   "metadata": {},
   "outputs": [
    {
     "name": "stdout",
     "output_type": "stream",
     "text": [
      "Extracted 4  rows since last check.\n"
     ]
    },
    {
     "data": {
      "application/vnd.microsoft.datawrangler.viewer.v0+json": {
       "columns": [
        {
         "name": "index",
         "rawType": "int64",
         "type": "integer"
        },
        {
         "name": "event_id",
         "rawType": "object",
         "type": "string"
        },
        {
         "name": "event_type",
         "rawType": "object",
         "type": "string"
        },
        {
         "name": "event_date",
         "rawType": "object",
         "type": "string"
        },
        {
         "name": "location",
         "rawType": "object",
         "type": "string"
        },
        {
         "name": "attendees",
         "rawType": "int64",
         "type": "integer"
        },
        {
         "name": "duration_hours",
         "rawType": "int64",
         "type": "integer"
        },
        {
         "name": "cost_per_attendee",
         "rawType": "float64",
         "type": "float"
        },
        {
         "name": "sponsor",
         "rawType": "object",
         "type": "unknown"
        },
        {
         "name": "feedback_score",
         "rawType": "float64",
         "type": "float"
        },
        {
         "name": "last_extraction",
         "rawType": "datetime64[ns]",
         "type": "datetime"
        }
       ],
       "ref": "d1595581-8274-4f74-8295-1be2cb7ea677",
       "rows": [
        [
         "12",
         "event_13",
         "webinar",
         "2025-12-18 14:27:19.434752",
         "New York",
         "89",
         "5",
         "483.29",
         "Company C",
         "1.8030540164777185",
         "2025-06-06 14:27:19.434752"
        ],
        [
         "17",
         "event_18",
         "workshop",
         "2026-05-05 14:27:19.434752",
         "Houston",
         "152",
         "3",
         "40.92",
         null,
         "2.1355542049436025",
         "2025-06-06 14:27:19.434752"
        ],
        [
         "32",
         "event_33",
         "workshop",
         "2026-02-03 14:27:19.434752",
         "Phoenix",
         "174",
         "2",
         "354.49",
         "Company B",
         "2.927879107493278",
         "2025-06-06 14:27:19.434752"
        ],
        [
         "40",
         "event_41",
         "conference",
         "2026-03-07 14:27:19.434752",
         "Los Angeles",
         "148",
         "4",
         "124.51",
         null,
         "3.593550815316906",
         "2025-06-04 14:27:19.434752"
        ]
       ],
       "shape": {
        "columns": 10,
        "rows": 4
       }
      },
      "text/html": [
       "<div>\n",
       "<style scoped>\n",
       "    .dataframe tbody tr th:only-of-type {\n",
       "        vertical-align: middle;\n",
       "    }\n",
       "\n",
       "    .dataframe tbody tr th {\n",
       "        vertical-align: top;\n",
       "    }\n",
       "\n",
       "    .dataframe thead th {\n",
       "        text-align: right;\n",
       "    }\n",
       "</style>\n",
       "<table border=\"1\" class=\"dataframe\">\n",
       "  <thead>\n",
       "    <tr style=\"text-align: right;\">\n",
       "      <th></th>\n",
       "      <th>event_id</th>\n",
       "      <th>event_type</th>\n",
       "      <th>event_date</th>\n",
       "      <th>location</th>\n",
       "      <th>attendees</th>\n",
       "      <th>duration_hours</th>\n",
       "      <th>cost_per_attendee</th>\n",
       "      <th>sponsor</th>\n",
       "      <th>feedback_score</th>\n",
       "      <th>last_extraction</th>\n",
       "    </tr>\n",
       "  </thead>\n",
       "  <tbody>\n",
       "    <tr>\n",
       "      <th>12</th>\n",
       "      <td>event_13</td>\n",
       "      <td>webinar</td>\n",
       "      <td>2025-12-18 14:27:19.434752</td>\n",
       "      <td>New York</td>\n",
       "      <td>89</td>\n",
       "      <td>5</td>\n",
       "      <td>483.29</td>\n",
       "      <td>Company C</td>\n",
       "      <td>1.803054</td>\n",
       "      <td>2025-06-06 14:27:19.434752</td>\n",
       "    </tr>\n",
       "    <tr>\n",
       "      <th>17</th>\n",
       "      <td>event_18</td>\n",
       "      <td>workshop</td>\n",
       "      <td>2026-05-05 14:27:19.434752</td>\n",
       "      <td>Houston</td>\n",
       "      <td>152</td>\n",
       "      <td>3</td>\n",
       "      <td>40.92</td>\n",
       "      <td>NaN</td>\n",
       "      <td>2.135554</td>\n",
       "      <td>2025-06-06 14:27:19.434752</td>\n",
       "    </tr>\n",
       "    <tr>\n",
       "      <th>32</th>\n",
       "      <td>event_33</td>\n",
       "      <td>workshop</td>\n",
       "      <td>2026-02-03 14:27:19.434752</td>\n",
       "      <td>Phoenix</td>\n",
       "      <td>174</td>\n",
       "      <td>2</td>\n",
       "      <td>354.49</td>\n",
       "      <td>Company B</td>\n",
       "      <td>2.927879</td>\n",
       "      <td>2025-06-06 14:27:19.434752</td>\n",
       "    </tr>\n",
       "    <tr>\n",
       "      <th>40</th>\n",
       "      <td>event_41</td>\n",
       "      <td>conference</td>\n",
       "      <td>2026-03-07 14:27:19.434752</td>\n",
       "      <td>Los Angeles</td>\n",
       "      <td>148</td>\n",
       "      <td>4</td>\n",
       "      <td>124.51</td>\n",
       "      <td>NaN</td>\n",
       "      <td>3.593551</td>\n",
       "      <td>2025-06-04 14:27:19.434752</td>\n",
       "    </tr>\n",
       "  </tbody>\n",
       "</table>\n",
       "</div>"
      ],
      "text/plain": [
       "    event_id  event_type                  event_date     location  attendees  \\\n",
       "12  event_13     webinar  2025-12-18 14:27:19.434752     New York         89   \n",
       "17  event_18    workshop  2026-05-05 14:27:19.434752      Houston        152   \n",
       "32  event_33    workshop  2026-02-03 14:27:19.434752      Phoenix        174   \n",
       "40  event_41  conference  2026-03-07 14:27:19.434752  Los Angeles        148   \n",
       "\n",
       "    duration_hours  cost_per_attendee    sponsor  feedback_score  \\\n",
       "12               5             483.29  Company C        1.803054   \n",
       "17               3              40.92        NaN        2.135554   \n",
       "32               2             354.49  Company B        2.927879   \n",
       "40               4             124.51        NaN        3.593551   \n",
       "\n",
       "              last_extraction  \n",
       "12 2025-06-06 14:27:19.434752  \n",
       "17 2025-06-06 14:27:19.434752  \n",
       "32 2025-06-06 14:27:19.434752  \n",
       "40 2025-06-04 14:27:19.434752  "
      ]
     },
     "execution_count": 46,
     "metadata": {},
     "output_type": "execute_result"
    }
   ],
   "source": [
    "# INCREMENTAL EXTRACTION\n",
    "with open(\"last_extraction.txt\", \"r\") as f:\n",
    "    last_extraction = f.read().strip()\n",
    "df = pd.read_csv(\"event_dataset.csv\", parse_dates=[\"last_extraction\"])\n",
    "last_extraction_time = pd.to_datetime(last_extraction)\n",
    "df_incremental = df[df['last_extraction'] > last_extraction_time]\n",
    "print(f\"Extracted {len(df_incremental)}  rows since last check.\")\n",
    "df_incremental.head()"
   ]
  },
  {
   "cell_type": "code",
   "execution_count": 48,
   "id": "602eccb1",
   "metadata": {},
   "outputs": [
    {
     "name": "stdout",
     "output_type": "stream",
     "text": [
      "Updated last_extraction.txt to 2025-06-06 14:27:19.434752\n"
     ]
    }
   ],
   "source": [
    "# Successful extraction\n",
    "# Get the most recent update\n",
    "new_checkpoint = df['last_extraction'].max()\n",
    "# Save it\n",
    "with open(\"last_extraction.txt\", \"w\") as f:\n",
    "    f.write(new_checkpoint.isoformat())\n",
    "print(f\"Updated last_extraction.txt to {new_checkpoint}\")"
   ]
  }
 ],
 "metadata": {
  "kernelspec": {
   "display_name": "Python 3",
   "language": "python",
   "name": "python3"
  },
  "language_info": {
   "codemirror_mode": {
    "name": "ipython",
    "version": 3
   },
   "file_extension": ".py",
   "mimetype": "text/x-python",
   "name": "python",
   "nbconvert_exporter": "python",
   "pygments_lexer": "ipython3",
   "version": "3.11.4"
  }
 },
 "nbformat": 4,
 "nbformat_minor": 5
}
