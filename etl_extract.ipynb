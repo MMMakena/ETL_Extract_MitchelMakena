{
 "cells": [
  {
   "cell_type": "code",
   "execution_count": 3,
   "id": "f3f209aa",
   "metadata": {},
   "outputs": [
    {
     "data": {
      "application/vnd.microsoft.datawrangler.viewer.v0+json": {
       "columns": [
        {
         "name": "index",
         "rawType": "int64",
         "type": "integer"
        },
        {
         "name": "event_id",
         "rawType": "object",
         "type": "string"
        },
        {
         "name": "event_type",
         "rawType": "object",
         "type": "string"
        },
        {
         "name": "event_date",
         "rawType": "datetime64[ns]",
         "type": "datetime"
        },
        {
         "name": "location",
         "rawType": "object",
         "type": "string"
        },
        {
         "name": "attendees",
         "rawType": "int64",
         "type": "integer"
        },
        {
         "name": "duration_hours",
         "rawType": "int64",
         "type": "integer"
        },
        {
         "name": "cost_per_attendee",
         "rawType": "float64",
         "type": "float"
        },
        {
         "name": "sponsor",
         "rawType": "object",
         "type": "string"
        },
        {
         "name": "feedback_score",
         "rawType": "float64",
         "type": "float"
        },
        {
         "name": "last_extraction",
         "rawType": "datetime64[ns]",
         "type": "datetime"
        }
       ],
       "ref": "4e697355-1ea8-4564-a8ce-d5bb06a7f6c6",
       "rows": [
        [
         "0",
         "event_1",
         "workshop",
         "2025-10-30 12:37:56.244200",
         "Phoenix",
         "145",
         "8",
         "400.39",
         "Company C",
         "1.8352559557119763",
         "2025-05-31 12:37:56.244200"
        ],
        [
         "1",
         "event_2",
         "workshop",
         "2025-09-08 12:37:56.244200",
         "Houston",
         "304",
         "2",
         "39.72",
         "Company C",
         "3.1108927857304978",
         "2025-05-22 12:37:56.244200"
        ],
        [
         "2",
         "event_3",
         "concert",
         "2026-01-21 12:37:56.244200",
         "Houston",
         "377",
         "3",
         "116.11",
         "Company C",
         "4.199987741750862",
         "2025-05-28 12:37:56.244200"
        ],
        [
         "3",
         "event_4",
         "conference",
         "2026-02-11 12:37:56.244200",
         "New York",
         "385",
         "2",
         "482.52",
         "Company A",
         "2.5099720157494705",
         "2025-06-01 12:37:56.244200"
        ],
        [
         "4",
         "event_5",
         "webinar",
         "2025-12-16 12:37:56.244200",
         "Houston",
         "413",
         "1",
         "412.97",
         "Company A",
         "1.188433080670677",
         "2025-06-13 12:37:56.244200"
        ]
       ],
       "shape": {
        "columns": 10,
        "rows": 5
       }
      },
      "text/html": [
       "<div>\n",
       "<style scoped>\n",
       "    .dataframe tbody tr th:only-of-type {\n",
       "        vertical-align: middle;\n",
       "    }\n",
       "\n",
       "    .dataframe tbody tr th {\n",
       "        vertical-align: top;\n",
       "    }\n",
       "\n",
       "    .dataframe thead th {\n",
       "        text-align: right;\n",
       "    }\n",
       "</style>\n",
       "<table border=\"1\" class=\"dataframe\">\n",
       "  <thead>\n",
       "    <tr style=\"text-align: right;\">\n",
       "      <th></th>\n",
       "      <th>event_id</th>\n",
       "      <th>event_type</th>\n",
       "      <th>event_date</th>\n",
       "      <th>location</th>\n",
       "      <th>attendees</th>\n",
       "      <th>duration_hours</th>\n",
       "      <th>cost_per_attendee</th>\n",
       "      <th>sponsor</th>\n",
       "      <th>feedback_score</th>\n",
       "      <th>last_extraction</th>\n",
       "    </tr>\n",
       "  </thead>\n",
       "  <tbody>\n",
       "    <tr>\n",
       "      <th>0</th>\n",
       "      <td>event_1</td>\n",
       "      <td>workshop</td>\n",
       "      <td>2025-10-30 12:37:56.244200</td>\n",
       "      <td>Phoenix</td>\n",
       "      <td>145</td>\n",
       "      <td>8</td>\n",
       "      <td>400.39</td>\n",
       "      <td>Company C</td>\n",
       "      <td>1.835256</td>\n",
       "      <td>2025-05-31 12:37:56.244200</td>\n",
       "    </tr>\n",
       "    <tr>\n",
       "      <th>1</th>\n",
       "      <td>event_2</td>\n",
       "      <td>workshop</td>\n",
       "      <td>2025-09-08 12:37:56.244200</td>\n",
       "      <td>Houston</td>\n",
       "      <td>304</td>\n",
       "      <td>2</td>\n",
       "      <td>39.72</td>\n",
       "      <td>Company C</td>\n",
       "      <td>3.110893</td>\n",
       "      <td>2025-05-22 12:37:56.244200</td>\n",
       "    </tr>\n",
       "    <tr>\n",
       "      <th>2</th>\n",
       "      <td>event_3</td>\n",
       "      <td>concert</td>\n",
       "      <td>2026-01-21 12:37:56.244200</td>\n",
       "      <td>Houston</td>\n",
       "      <td>377</td>\n",
       "      <td>3</td>\n",
       "      <td>116.11</td>\n",
       "      <td>Company C</td>\n",
       "      <td>4.199988</td>\n",
       "      <td>2025-05-28 12:37:56.244200</td>\n",
       "    </tr>\n",
       "    <tr>\n",
       "      <th>3</th>\n",
       "      <td>event_4</td>\n",
       "      <td>conference</td>\n",
       "      <td>2026-02-11 12:37:56.244200</td>\n",
       "      <td>New York</td>\n",
       "      <td>385</td>\n",
       "      <td>2</td>\n",
       "      <td>482.52</td>\n",
       "      <td>Company A</td>\n",
       "      <td>2.509972</td>\n",
       "      <td>2025-06-01 12:37:56.244200</td>\n",
       "    </tr>\n",
       "    <tr>\n",
       "      <th>4</th>\n",
       "      <td>event_5</td>\n",
       "      <td>webinar</td>\n",
       "      <td>2025-12-16 12:37:56.244200</td>\n",
       "      <td>Houston</td>\n",
       "      <td>413</td>\n",
       "      <td>1</td>\n",
       "      <td>412.97</td>\n",
       "      <td>Company A</td>\n",
       "      <td>1.188433</td>\n",
       "      <td>2025-06-13 12:37:56.244200</td>\n",
       "    </tr>\n",
       "  </tbody>\n",
       "</table>\n",
       "</div>"
      ],
      "text/plain": [
       "  event_id  event_type                 event_date  location  attendees  \\\n",
       "0  event_1    workshop 2025-10-30 12:37:56.244200   Phoenix        145   \n",
       "1  event_2    workshop 2025-09-08 12:37:56.244200   Houston        304   \n",
       "2  event_3     concert 2026-01-21 12:37:56.244200   Houston        377   \n",
       "3  event_4  conference 2026-02-11 12:37:56.244200  New York        385   \n",
       "4  event_5     webinar 2025-12-16 12:37:56.244200   Houston        413   \n",
       "\n",
       "   duration_hours  cost_per_attendee    sponsor  feedback_score  \\\n",
       "0               8             400.39  Company C        1.835256   \n",
       "1               2              39.72  Company C        3.110893   \n",
       "2               3             116.11  Company C        4.199988   \n",
       "3               2             482.52  Company A        2.509972   \n",
       "4               1             412.97  Company A        1.188433   \n",
       "\n",
       "             last_extraction  \n",
       "0 2025-05-31 12:37:56.244200  \n",
       "1 2025-05-22 12:37:56.244200  \n",
       "2 2025-05-28 12:37:56.244200  \n",
       "3 2025-06-01 12:37:56.244200  \n",
       "4 2025-06-13 12:37:56.244200  "
      ]
     },
     "execution_count": 3,
     "metadata": {},
     "output_type": "execute_result"
    }
   ],
   "source": [
    "# Getting dataset for event management system\n",
    "import pandas as pd\n",
    "import numpy as np\n",
    "from datetime import datetime, timedelta\n",
    "import random\n",
    "\n",
    "# Simulate data of 50 events with random attributes\n",
    "num_events = 50\n",
    "data = {\n",
    "    'event_id': [f'event_{i+1}' for i in range(num_events)],\n",
    "    'event_type': [random.choice(['concert', 'conference', 'workshop', 'webinar']) for _ in range(num_events)],\n",
    "    'event_date': [datetime.now() + timedelta(days=random.randint(1, 365)) for _ in range(num_events)],\n",
    "    'location': [random.choice(['New York', 'Los Angeles', 'Chicago', 'Houston', 'Phoenix']) for _ in range(num_events)],\n",
    "    'attendees': [random.randint(50, 500) for _ in range(num_events)],\n",
    "    'duration_hours': [random.randint(1, 8) for _ in range(num_events)],\n",
    "    'cost_per_attendee': [round(random.uniform(10.0, 500.0), 2) for _ in range(num_events)],\n",
    "    'sponsor': [random.choice(['Company A', 'Company B', 'Company C', 'None']) for _ in range(num_events)],\n",
    "    'feedback_score': [random.uniform(1.0, 5.0) for _ in range(num_events)],\n",
    "    'last_extraction': [datetime.now() - timedelta(days=random.randint(0, 30)) for _ in range(num_events)],\n",
    "}\n",
    "df = pd.DataFrame(data)\n",
    "df.to_csv('event_dataset.csv', index=False)\n",
    "df.head()   \n"
   ]
  },
  {
   "cell_type": "markdown",
   "id": "607ba331",
   "metadata": {},
   "source": [
    "# FULL Extraction"
   ]
  },
  {
   "cell_type": "code",
   "execution_count": 4,
   "id": "3c0182f6",
   "metadata": {},
   "outputs": [
    {
     "name": "stdout",
     "output_type": "stream",
     "text": [
      "Extracted 50 rows fully.\n"
     ]
    },
    {
     "data": {
      "application/vnd.microsoft.datawrangler.viewer.v0+json": {
       "columns": [
        {
         "name": "index",
         "rawType": "int64",
         "type": "integer"
        },
        {
         "name": "event_id",
         "rawType": "object",
         "type": "string"
        },
        {
         "name": "event_type",
         "rawType": "object",
         "type": "string"
        },
        {
         "name": "event_date",
         "rawType": "object",
         "type": "string"
        },
        {
         "name": "location",
         "rawType": "object",
         "type": "string"
        },
        {
         "name": "attendees",
         "rawType": "int64",
         "type": "integer"
        },
        {
         "name": "duration_hours",
         "rawType": "int64",
         "type": "integer"
        },
        {
         "name": "cost_per_attendee",
         "rawType": "float64",
         "type": "float"
        },
        {
         "name": "sponsor",
         "rawType": "object",
         "type": "string"
        },
        {
         "name": "feedback_score",
         "rawType": "float64",
         "type": "float"
        },
        {
         "name": "last_extraction",
         "rawType": "datetime64[ns]",
         "type": "datetime"
        }
       ],
       "ref": "615b62e1-cbf5-47d0-9ba3-3e76c44b871e",
       "rows": [
        [
         "0",
         "event_1",
         "workshop",
         "2025-10-30 12:37:56.244200",
         "Phoenix",
         "145",
         "8",
         "400.39",
         "Company C",
         "1.8352559557119763",
         "2025-05-31 12:37:56.244200"
        ],
        [
         "1",
         "event_2",
         "workshop",
         "2025-09-08 12:37:56.244200",
         "Houston",
         "304",
         "2",
         "39.72",
         "Company C",
         "3.1108927857304978",
         "2025-05-22 12:37:56.244200"
        ],
        [
         "2",
         "event_3",
         "concert",
         "2026-01-21 12:37:56.244200",
         "Houston",
         "377",
         "3",
         "116.11",
         "Company C",
         "4.199987741750862",
         "2025-05-28 12:37:56.244200"
        ],
        [
         "3",
         "event_4",
         "conference",
         "2026-02-11 12:37:56.244200",
         "New York",
         "385",
         "2",
         "482.52",
         "Company A",
         "2.5099720157494705",
         "2025-06-01 12:37:56.244200"
        ],
        [
         "4",
         "event_5",
         "webinar",
         "2025-12-16 12:37:56.244200",
         "Houston",
         "413",
         "1",
         "412.97",
         "Company A",
         "1.188433080670677",
         "2025-06-13 12:37:56.244200"
        ]
       ],
       "shape": {
        "columns": 10,
        "rows": 5
       }
      },
      "text/html": [
       "<div>\n",
       "<style scoped>\n",
       "    .dataframe tbody tr th:only-of-type {\n",
       "        vertical-align: middle;\n",
       "    }\n",
       "\n",
       "    .dataframe tbody tr th {\n",
       "        vertical-align: top;\n",
       "    }\n",
       "\n",
       "    .dataframe thead th {\n",
       "        text-align: right;\n",
       "    }\n",
       "</style>\n",
       "<table border=\"1\" class=\"dataframe\">\n",
       "  <thead>\n",
       "    <tr style=\"text-align: right;\">\n",
       "      <th></th>\n",
       "      <th>event_id</th>\n",
       "      <th>event_type</th>\n",
       "      <th>event_date</th>\n",
       "      <th>location</th>\n",
       "      <th>attendees</th>\n",
       "      <th>duration_hours</th>\n",
       "      <th>cost_per_attendee</th>\n",
       "      <th>sponsor</th>\n",
       "      <th>feedback_score</th>\n",
       "      <th>last_extraction</th>\n",
       "    </tr>\n",
       "  </thead>\n",
       "  <tbody>\n",
       "    <tr>\n",
       "      <th>0</th>\n",
       "      <td>event_1</td>\n",
       "      <td>workshop</td>\n",
       "      <td>2025-10-30 12:37:56.244200</td>\n",
       "      <td>Phoenix</td>\n",
       "      <td>145</td>\n",
       "      <td>8</td>\n",
       "      <td>400.39</td>\n",
       "      <td>Company C</td>\n",
       "      <td>1.835256</td>\n",
       "      <td>2025-05-31 12:37:56.244200</td>\n",
       "    </tr>\n",
       "    <tr>\n",
       "      <th>1</th>\n",
       "      <td>event_2</td>\n",
       "      <td>workshop</td>\n",
       "      <td>2025-09-08 12:37:56.244200</td>\n",
       "      <td>Houston</td>\n",
       "      <td>304</td>\n",
       "      <td>2</td>\n",
       "      <td>39.72</td>\n",
       "      <td>Company C</td>\n",
       "      <td>3.110893</td>\n",
       "      <td>2025-05-22 12:37:56.244200</td>\n",
       "    </tr>\n",
       "    <tr>\n",
       "      <th>2</th>\n",
       "      <td>event_3</td>\n",
       "      <td>concert</td>\n",
       "      <td>2026-01-21 12:37:56.244200</td>\n",
       "      <td>Houston</td>\n",
       "      <td>377</td>\n",
       "      <td>3</td>\n",
       "      <td>116.11</td>\n",
       "      <td>Company C</td>\n",
       "      <td>4.199988</td>\n",
       "      <td>2025-05-28 12:37:56.244200</td>\n",
       "    </tr>\n",
       "    <tr>\n",
       "      <th>3</th>\n",
       "      <td>event_4</td>\n",
       "      <td>conference</td>\n",
       "      <td>2026-02-11 12:37:56.244200</td>\n",
       "      <td>New York</td>\n",
       "      <td>385</td>\n",
       "      <td>2</td>\n",
       "      <td>482.52</td>\n",
       "      <td>Company A</td>\n",
       "      <td>2.509972</td>\n",
       "      <td>2025-06-01 12:37:56.244200</td>\n",
       "    </tr>\n",
       "    <tr>\n",
       "      <th>4</th>\n",
       "      <td>event_5</td>\n",
       "      <td>webinar</td>\n",
       "      <td>2025-12-16 12:37:56.244200</td>\n",
       "      <td>Houston</td>\n",
       "      <td>413</td>\n",
       "      <td>1</td>\n",
       "      <td>412.97</td>\n",
       "      <td>Company A</td>\n",
       "      <td>1.188433</td>\n",
       "      <td>2025-06-13 12:37:56.244200</td>\n",
       "    </tr>\n",
       "  </tbody>\n",
       "</table>\n",
       "</div>"
      ],
      "text/plain": [
       "  event_id  event_type                  event_date  location  attendees  \\\n",
       "0  event_1    workshop  2025-10-30 12:37:56.244200   Phoenix        145   \n",
       "1  event_2    workshop  2025-09-08 12:37:56.244200   Houston        304   \n",
       "2  event_3     concert  2026-01-21 12:37:56.244200   Houston        377   \n",
       "3  event_4  conference  2026-02-11 12:37:56.244200  New York        385   \n",
       "4  event_5     webinar  2025-12-16 12:37:56.244200   Houston        413   \n",
       "\n",
       "   duration_hours  cost_per_attendee    sponsor  feedback_score  \\\n",
       "0               8             400.39  Company C        1.835256   \n",
       "1               2              39.72  Company C        3.110893   \n",
       "2               3             116.11  Company C        4.199988   \n",
       "3               2             482.52  Company A        2.509972   \n",
       "4               1             412.97  Company A        1.188433   \n",
       "\n",
       "             last_extraction  \n",
       "0 2025-05-31 12:37:56.244200  \n",
       "1 2025-05-22 12:37:56.244200  \n",
       "2 2025-05-28 12:37:56.244200  \n",
       "3 2025-06-01 12:37:56.244200  \n",
       "4 2025-06-13 12:37:56.244200  "
      ]
     },
     "execution_count": 4,
     "metadata": {},
     "output_type": "execute_result"
    }
   ],
   "source": [
    "# Full Extraction\n",
    "df_full = pd.read_csv(\"event_dataset.csv\", parse_dates=[\"last_extraction\"])\n",
    "print(f\"Extracted {len(df_full)} rows fully.\")\n",
    "df_full.head()"
   ]
  },
  {
   "cell_type": "markdown",
   "id": "82394a91",
   "metadata": {},
   "source": [
    "# INCREMENTAL Extraction"
   ]
  },
  {
   "cell_type": "code",
   "execution_count": 5,
   "id": "cd566ea6",
   "metadata": {},
   "outputs": [],
   "source": [
    "# Set initial last extraction time (e.g., halfway through the data range)\n",
    "with open(\"last_extraction.txt\", \"w\") as f:\n",
    "    f.write(\"2025-06-04 12:00:00\") "
   ]
  },
  {
   "cell_type": "code",
   "execution_count": 6,
   "id": "21734fc2",
   "metadata": {},
   "outputs": [
    {
     "name": "stdout",
     "output_type": "stream",
     "text": [
      "Extracted 15  rows since last check.\n"
     ]
    },
    {
     "data": {
      "application/vnd.microsoft.datawrangler.viewer.v0+json": {
       "columns": [
        {
         "name": "index",
         "rawType": "int64",
         "type": "integer"
        },
        {
         "name": "event_id",
         "rawType": "object",
         "type": "string"
        },
        {
         "name": "event_type",
         "rawType": "object",
         "type": "string"
        },
        {
         "name": "event_date",
         "rawType": "object",
         "type": "string"
        },
        {
         "name": "location",
         "rawType": "object",
         "type": "string"
        },
        {
         "name": "attendees",
         "rawType": "int64",
         "type": "integer"
        },
        {
         "name": "duration_hours",
         "rawType": "int64",
         "type": "integer"
        },
        {
         "name": "cost_per_attendee",
         "rawType": "float64",
         "type": "float"
        },
        {
         "name": "sponsor",
         "rawType": "object",
         "type": "string"
        },
        {
         "name": "feedback_score",
         "rawType": "float64",
         "type": "float"
        },
        {
         "name": "last_extraction",
         "rawType": "datetime64[ns]",
         "type": "datetime"
        }
       ],
       "ref": "6beb5910-2ddc-42f8-be3e-0efb4c949a46",
       "rows": [
        [
         "4",
         "event_5",
         "webinar",
         "2025-12-16 12:37:56.244200",
         "Houston",
         "413",
         "1",
         "412.97",
         "Company A",
         "1.188433080670677",
         "2025-06-13 12:37:56.244200"
        ],
        [
         "6",
         "event_7",
         "workshop",
         "2026-03-28 12:37:56.244200",
         "Los Angeles",
         "130",
         "5",
         "84.42",
         "Company B",
         "2.9096010408562085",
         "2025-06-10 12:37:56.244200"
        ],
        [
         "7",
         "event_8",
         "workshop",
         "2025-10-16 12:37:56.244200",
         "Los Angeles",
         "262",
         "6",
         "368.0",
         "Company C",
         "1.9033321069610336",
         "2025-06-11 12:37:56.244200"
        ],
        [
         "10",
         "event_11",
         "workshop",
         "2025-08-11 12:37:56.244200",
         "Houston",
         "433",
         "6",
         "210.97",
         "Company A",
         "4.117752027983816",
         "2025-06-11 12:37:56.244200"
        ],
        [
         "11",
         "event_12",
         "conference",
         "2025-12-30 12:37:56.244200",
         "Phoenix",
         "117",
         "1",
         "427.95",
         "Company B",
         "4.993007263143296",
         "2025-06-11 12:37:56.244200"
        ]
       ],
       "shape": {
        "columns": 10,
        "rows": 5
       }
      },
      "text/html": [
       "<div>\n",
       "<style scoped>\n",
       "    .dataframe tbody tr th:only-of-type {\n",
       "        vertical-align: middle;\n",
       "    }\n",
       "\n",
       "    .dataframe tbody tr th {\n",
       "        vertical-align: top;\n",
       "    }\n",
       "\n",
       "    .dataframe thead th {\n",
       "        text-align: right;\n",
       "    }\n",
       "</style>\n",
       "<table border=\"1\" class=\"dataframe\">\n",
       "  <thead>\n",
       "    <tr style=\"text-align: right;\">\n",
       "      <th></th>\n",
       "      <th>event_id</th>\n",
       "      <th>event_type</th>\n",
       "      <th>event_date</th>\n",
       "      <th>location</th>\n",
       "      <th>attendees</th>\n",
       "      <th>duration_hours</th>\n",
       "      <th>cost_per_attendee</th>\n",
       "      <th>sponsor</th>\n",
       "      <th>feedback_score</th>\n",
       "      <th>last_extraction</th>\n",
       "    </tr>\n",
       "  </thead>\n",
       "  <tbody>\n",
       "    <tr>\n",
       "      <th>4</th>\n",
       "      <td>event_5</td>\n",
       "      <td>webinar</td>\n",
       "      <td>2025-12-16 12:37:56.244200</td>\n",
       "      <td>Houston</td>\n",
       "      <td>413</td>\n",
       "      <td>1</td>\n",
       "      <td>412.97</td>\n",
       "      <td>Company A</td>\n",
       "      <td>1.188433</td>\n",
       "      <td>2025-06-13 12:37:56.244200</td>\n",
       "    </tr>\n",
       "    <tr>\n",
       "      <th>6</th>\n",
       "      <td>event_7</td>\n",
       "      <td>workshop</td>\n",
       "      <td>2026-03-28 12:37:56.244200</td>\n",
       "      <td>Los Angeles</td>\n",
       "      <td>130</td>\n",
       "      <td>5</td>\n",
       "      <td>84.42</td>\n",
       "      <td>Company B</td>\n",
       "      <td>2.909601</td>\n",
       "      <td>2025-06-10 12:37:56.244200</td>\n",
       "    </tr>\n",
       "    <tr>\n",
       "      <th>7</th>\n",
       "      <td>event_8</td>\n",
       "      <td>workshop</td>\n",
       "      <td>2025-10-16 12:37:56.244200</td>\n",
       "      <td>Los Angeles</td>\n",
       "      <td>262</td>\n",
       "      <td>6</td>\n",
       "      <td>368.00</td>\n",
       "      <td>Company C</td>\n",
       "      <td>1.903332</td>\n",
       "      <td>2025-06-11 12:37:56.244200</td>\n",
       "    </tr>\n",
       "    <tr>\n",
       "      <th>10</th>\n",
       "      <td>event_11</td>\n",
       "      <td>workshop</td>\n",
       "      <td>2025-08-11 12:37:56.244200</td>\n",
       "      <td>Houston</td>\n",
       "      <td>433</td>\n",
       "      <td>6</td>\n",
       "      <td>210.97</td>\n",
       "      <td>Company A</td>\n",
       "      <td>4.117752</td>\n",
       "      <td>2025-06-11 12:37:56.244200</td>\n",
       "    </tr>\n",
       "    <tr>\n",
       "      <th>11</th>\n",
       "      <td>event_12</td>\n",
       "      <td>conference</td>\n",
       "      <td>2025-12-30 12:37:56.244200</td>\n",
       "      <td>Phoenix</td>\n",
       "      <td>117</td>\n",
       "      <td>1</td>\n",
       "      <td>427.95</td>\n",
       "      <td>Company B</td>\n",
       "      <td>4.993007</td>\n",
       "      <td>2025-06-11 12:37:56.244200</td>\n",
       "    </tr>\n",
       "  </tbody>\n",
       "</table>\n",
       "</div>"
      ],
      "text/plain": [
       "    event_id  event_type                  event_date     location  attendees  \\\n",
       "4    event_5     webinar  2025-12-16 12:37:56.244200      Houston        413   \n",
       "6    event_7    workshop  2026-03-28 12:37:56.244200  Los Angeles        130   \n",
       "7    event_8    workshop  2025-10-16 12:37:56.244200  Los Angeles        262   \n",
       "10  event_11    workshop  2025-08-11 12:37:56.244200      Houston        433   \n",
       "11  event_12  conference  2025-12-30 12:37:56.244200      Phoenix        117   \n",
       "\n",
       "    duration_hours  cost_per_attendee    sponsor  feedback_score  \\\n",
       "4                1             412.97  Company A        1.188433   \n",
       "6                5              84.42  Company B        2.909601   \n",
       "7                6             368.00  Company C        1.903332   \n",
       "10               6             210.97  Company A        4.117752   \n",
       "11               1             427.95  Company B        4.993007   \n",
       "\n",
       "              last_extraction  \n",
       "4  2025-06-13 12:37:56.244200  \n",
       "6  2025-06-10 12:37:56.244200  \n",
       "7  2025-06-11 12:37:56.244200  \n",
       "10 2025-06-11 12:37:56.244200  \n",
       "11 2025-06-11 12:37:56.244200  "
      ]
     },
     "execution_count": 6,
     "metadata": {},
     "output_type": "execute_result"
    }
   ],
   "source": [
    "# INCREMENTAL EXTRACTION\n",
    "with open(\"last_extraction.txt\", \"r\") as f:\n",
    "    last_extraction = f.read().strip()\n",
    "df = pd.read_csv(\"event_dataset.csv\", parse_dates=[\"last_extraction\"])\n",
    "last_extraction_time = pd.to_datetime(last_extraction)\n",
    "df_incremental = df[df['last_extraction'] > last_extraction_time]\n",
    "print(f\"Extracted {len(df_incremental)}  rows since last check.\")\n",
    "df_incremental.head()"
   ]
  },
  {
   "cell_type": "code",
   "execution_count": 7,
   "id": "602eccb1",
   "metadata": {},
   "outputs": [
    {
     "name": "stdout",
     "output_type": "stream",
     "text": [
      "Updated last_extraction.txt to 2025-06-14 12:37:56.244200\n"
     ]
    }
   ],
   "source": [
    "# Successful extraction\n",
    "# Get the most recent update\n",
    "new_checkpoint = df['last_extraction'].max()\n",
    "# Save it\n",
    "with open(\"last_extraction.txt\", \"w\") as f:\n",
    "    f.write(new_checkpoint.isoformat())\n",
    "print(f\"Updated last_extraction.txt to {new_checkpoint}\")"
   ]
  },
  {
   "cell_type": "markdown",
   "id": "69eadd65",
   "metadata": {},
   "source": [
    "## Section 4 : Transform Full Data"
   ]
  },
  {
   "cell_type": "markdown",
   "id": "81d8d4c4",
   "metadata": {},
   "source": [
    "#### Transformation Requirements"
   ]
  },
  {
   "cell_type": "markdown",
   "id": "930ac2bd",
   "metadata": {},
   "source": [
    "- Cleaning: Handle missing values, remove duplicates. \n",
    "- Enrichment: Add calculated columns (e.g., total_price = quantity * unit_price). \n",
    "- Structural: Convert data types, standardize date formats. \n",
    "- Filtering: Remove irrelevant columns/rows. \n",
    "- Categorization: Bin numerical values (e.g., age groups). \n"
   ]
  },
  {
   "cell_type": "code",
   "execution_count": 40,
   "id": "9a004469",
   "metadata": {},
   "outputs": [
    {
     "name": "stdout",
     "output_type": "stream",
     "text": [
      "Missing values found in the dataset. Filling with forward fill method.\n",
      "Row count before transformation: 50\n",
      "Row count after transformation: 50\n"
     ]
    }
   ],
   "source": [
    "# Transformations for Full Extraction\n",
    "df_transformed_full = df_full.copy()\n",
    "\n",
    "# Transformation 1 : Handle missing values and duplicate rows\n",
    "if df_transformed_full.isnull().values.any():\n",
    "    print(\"Missing values found in the dataset. Filling with forward fill method.\") \n",
    "else:\n",
    "    print(\"No missing values found in the dataset.\")\n",
    "    df_transformed_full['event_type'].fillna('unknown', inplace=True)\n",
    "    df_transformed_full['location'].fillna('unknown', inplace=True)\n",
    "rows_count_before = len(df_transformed_full)\n",
    "\n",
    "df_transformed_full.drop_duplicates(inplace=True)\n",
    "row_count_after = len(df_transformed_full)\n",
    "\n",
    "df_transformed_full.fillna(method='ffill', inplace=True)\n",
    "row_count_after = len(df_transformed_full)\n",
    "\n",
    "print(f\"Row count before transformation: {rows_count_before}\")\n",
    "print(f\"Row count after transformation: {row_count_after}\")    "
   ]
  },
  {
   "cell_type": "code",
   "execution_count": 31,
   "id": "cc1c88bc",
   "metadata": {},
   "outputs": [
    {
     "name": "stdout",
     "output_type": "stream",
     "text": [
      "Transformed DataFrame with total cost:\n",
      "    attendees  cost_per_attendee  total_cost\n",
      "0         145             400.39    58056.55\n",
      "1         304              39.72    12074.88\n",
      "2         377             116.11    43773.47\n",
      "3         385             482.52   185770.20\n",
      "4         413             412.97   170556.61\n",
      "5         288             110.84    31921.92\n",
      "6         130              84.42    10974.60\n",
      "7         262             368.00    96416.00\n",
      "8         406              41.58    16881.48\n",
      "9         374             121.46    45426.04\n",
      "10        433             210.97    91350.01\n",
      "11        117             427.95    50070.15\n",
      "12         75              23.79     1784.25\n",
      "13        147             399.74    58761.78\n",
      "14         66             360.08    23765.28\n",
      "15        196             455.94    89364.24\n",
      "16        399             210.63    84041.37\n",
      "17        455             462.53   210451.15\n",
      "18         89             450.41    40086.49\n",
      "19        458             212.40    97279.20\n",
      "20        327             453.56   148314.12\n",
      "21        161             333.31    53662.91\n",
      "22        327             125.67    41094.09\n",
      "23        268             339.44    90969.92\n",
      "24        111             457.45    50776.95\n",
      "25        311              50.14    15593.54\n",
      "26         59             114.04     6728.36\n",
      "27         83             367.70    30519.10\n",
      "28        494             477.76   236013.44\n",
      "29        381             221.19    84273.39\n",
      "30         60             317.17    19030.20\n",
      "31        429             128.93    55310.97\n",
      "32        179             271.73    48639.67\n",
      "33        497             449.58   223441.26\n",
      "34        363              81.25    29493.75\n",
      "35        317             485.35   153855.95\n",
      "36        113             224.42    25359.46\n",
      "37        434              39.19    17008.46\n",
      "38        411             386.90   159015.90\n",
      "39        310             396.60   122946.00\n",
      "40        297             458.39   136141.83\n",
      "41        301             406.87   122467.87\n",
      "42        237             130.94    31032.78\n",
      "43        207             373.63    77341.41\n",
      "44        112             195.16    21857.92\n",
      "45        328              93.38    30628.64\n",
      "46        458             270.43   123856.94\n",
      "47         82             241.04    19765.28\n",
      "48        372             449.13   167076.36\n",
      "49        396             396.60   157053.60\n"
     ]
    }
   ],
   "source": [
    "# Transformation 2: Enrichment - Total cost calculation\n",
    "if 'attendees' in df_transformed_full.columns and 'cost_per_attendee' in df_transformed_full.columns:\n",
    "    df_transformed_full['total_cost'] = round(df_transformed_full['attendees'] * df_transformed_full['cost_per_attendee'], 2)  \n",
    "else:\n",
    "    print(\"Columns 'attendees' or 'cost_per_attendee' not found in DataFrame for total cost calculation.\")\n",
    "\n",
    "print(\"Transformed DataFrame with total cost:\")\n",
    "print(df_transformed_full[['attendees', 'cost_per_attendee', 'total_cost']])   "
   ]
  },
  {
   "cell_type": "code",
   "execution_count": 32,
   "id": "6a1a5ef7",
   "metadata": {},
   "outputs": [
    {
     "name": "stdout",
     "output_type": "stream",
     "text": [
      "Transformed DataFrame with event_date as string:\n",
      "    event_date\n",
      "0   2025-10-30\n",
      "1   2025-09-08\n",
      "2   2026-01-21\n",
      "3   2026-02-11\n",
      "4   2025-12-16\n",
      "5   2026-01-09\n",
      "6   2026-03-28\n",
      "7   2025-10-16\n",
      "8   2025-07-11\n",
      "9   2025-11-26\n",
      "10  2025-08-11\n",
      "11  2025-12-30\n",
      "12  2025-07-25\n",
      "13  2025-07-13\n",
      "14  2026-05-07\n",
      "15  2025-12-17\n",
      "16  2026-05-22\n",
      "17  2026-04-13\n",
      "18  2025-06-21\n",
      "19  2025-10-13\n",
      "20  2026-04-27\n",
      "21  2026-02-22\n",
      "22  2026-03-23\n",
      "23  2026-06-11\n",
      "24  2025-10-11\n",
      "25  2025-10-12\n",
      "26  2025-07-27\n",
      "27  2026-04-02\n",
      "28  2025-08-21\n",
      "29  2026-02-23\n",
      "30  2026-02-04\n",
      "31  2026-01-30\n",
      "32  2026-01-02\n",
      "33  2026-02-04\n",
      "34  2025-08-04\n",
      "35  2025-07-07\n",
      "36  2026-03-31\n",
      "37  2025-09-10\n",
      "38  2026-02-08\n",
      "39  2025-11-13\n",
      "40  2026-02-05\n",
      "41  2025-09-03\n",
      "42  2025-12-24\n",
      "43  2025-12-30\n",
      "44  2026-04-02\n",
      "45  2026-03-19\n",
      "46  2026-02-16\n",
      "47  2026-01-12\n",
      "48  2025-12-19\n",
      "49  2025-11-03\n"
     ]
    }
   ],
   "source": [
    "# Transformation 3: Structural - Convert event_date to string format\n",
    "if 'event_date' in df_transformed_full.columns: \n",
    "    df_transformed_full['event_date'] = df_transformed_full['event_date'].astype(str)\n",
    "else:\n",
    "    print(\"Column 'event_date' not found in DataFrame for conversion to string format.\")\n",
    "\n",
    "print(\"Transformed DataFrame with event_date as string:\")\n",
    "print(df_transformed_full[['event_date']])\n"
   ]
  },
  {
   "cell_type": "code",
   "execution_count": 33,
   "id": "83d939fa",
   "metadata": {},
   "outputs": [
    {
     "name": "stdout",
     "output_type": "stream",
     "text": [
      "Sample of transformed data:\n",
      "    event_id event_type  event_date location  attendees  duration_hours  \\\n",
      "39  event_40    webinar  2025-11-13  Houston        310               1   \n",
      "1    event_2   workshop  2025-09-08  Houston        304               2   \n",
      "15  event_16    webinar  2025-12-17  Houston        196               1   \n",
      "27  event_28   workshop  2026-04-02  Phoenix         83               1   \n",
      "35  event_36    webinar  2025-07-07  Houston        317               6   \n",
      "\n",
      "    cost_per_attendee    sponsor  feedback_score            last_extraction  \\\n",
      "39             396.60  Company A        3.482855 2025-05-19 12:37:56.244200   \n",
      "1               39.72  Company C        3.110893 2025-05-22 12:37:56.244200   \n",
      "15             455.94  Company C        1.764903 2025-06-03 12:37:56.244200   \n",
      "27             367.70  Company A        1.906805 2025-06-12 12:37:56.244200   \n",
      "35             485.35  Company A        4.871442 2025-05-27 12:37:56.244200   \n",
      "\n",
      "    total_cost  \n",
      "39   122946.00  \n",
      "1     12074.88  \n",
      "15    89364.24  \n",
      "27    30519.10  \n",
      "35   153855.95  \n"
     ]
    }
   ],
   "source": [
    "# sample of transformed full data\n",
    "df_transformed_sample = df_transformed_full.sample(5)\n",
    "print(\"Sample of transformed full data:\")\n",
    "print(df_transformed_sample)"
   ]
  },
  {
   "cell_type": "code",
   "execution_count": 53,
   "id": "4ec8c019",
   "metadata": {},
   "outputs": [
    {
     "data": {
      "application/vnd.microsoft.datawrangler.viewer.v0+json": {
       "columns": [
        {
         "name": "index",
         "rawType": "int64",
         "type": "integer"
        },
        {
         "name": "event_id",
         "rawType": "object",
         "type": "string"
        },
        {
         "name": "event_type",
         "rawType": "object",
         "type": "string"
        },
        {
         "name": "event_date",
         "rawType": "object",
         "type": "string"
        },
        {
         "name": "location",
         "rawType": "object",
         "type": "string"
        },
        {
         "name": "attendees",
         "rawType": "int64",
         "type": "integer"
        },
        {
         "name": "duration_hours",
         "rawType": "int64",
         "type": "integer"
        },
        {
         "name": "cost_per_attendee",
         "rawType": "float64",
         "type": "float"
        },
        {
         "name": "sponsor",
         "rawType": "object",
         "type": "string"
        },
        {
         "name": "feedback_score",
         "rawType": "float64",
         "type": "float"
        },
        {
         "name": "last_extraction",
         "rawType": "datetime64[ns]",
         "type": "datetime"
        }
       ],
       "ref": "5ce40c5f-2f7f-40d4-b72b-a1eb6ccb337d",
       "rows": [
        [
         "0",
         "event_1",
         "workshop",
         "2025-10-30 12:37:56.244200",
         "Phoenix",
         "145",
         "8",
         "400.39",
         "Company C",
         "1.8352559557119763",
         "2025-05-31 12:37:56.244200"
        ],
        [
         "1",
         "event_2",
         "workshop",
         "2025-09-08 12:37:56.244200",
         "Houston",
         "304",
         "2",
         "39.72",
         "Company C",
         "3.1108927857304978",
         "2025-05-22 12:37:56.244200"
        ],
        [
         "2",
         "event_3",
         "concert",
         "2026-01-21 12:37:56.244200",
         "Houston",
         "377",
         "3",
         "116.11",
         "Company C",
         "4.199987741750862",
         "2025-05-28 12:37:56.244200"
        ],
        [
         "3",
         "event_4",
         "conference",
         "2026-02-11 12:37:56.244200",
         "New York",
         "385",
         "2",
         "482.52",
         "Company A",
         "2.5099720157494705",
         "2025-06-01 12:37:56.244200"
        ],
        [
         "4",
         "event_5",
         "webinar",
         "2025-12-16 12:37:56.244200",
         "Houston",
         "413",
         "1",
         "412.97",
         "Company A",
         "1.188433080670677",
         "2025-06-13 12:37:56.244200"
        ]
       ],
       "shape": {
        "columns": 10,
        "rows": 5
       }
      },
      "text/html": [
       "<div>\n",
       "<style scoped>\n",
       "    .dataframe tbody tr th:only-of-type {\n",
       "        vertical-align: middle;\n",
       "    }\n",
       "\n",
       "    .dataframe tbody tr th {\n",
       "        vertical-align: top;\n",
       "    }\n",
       "\n",
       "    .dataframe thead th {\n",
       "        text-align: right;\n",
       "    }\n",
       "</style>\n",
       "<table border=\"1\" class=\"dataframe\">\n",
       "  <thead>\n",
       "    <tr style=\"text-align: right;\">\n",
       "      <th></th>\n",
       "      <th>event_id</th>\n",
       "      <th>event_type</th>\n",
       "      <th>event_date</th>\n",
       "      <th>location</th>\n",
       "      <th>attendees</th>\n",
       "      <th>duration_hours</th>\n",
       "      <th>cost_per_attendee</th>\n",
       "      <th>sponsor</th>\n",
       "      <th>feedback_score</th>\n",
       "      <th>last_extraction</th>\n",
       "    </tr>\n",
       "  </thead>\n",
       "  <tbody>\n",
       "    <tr>\n",
       "      <th>0</th>\n",
       "      <td>event_1</td>\n",
       "      <td>workshop</td>\n",
       "      <td>2025-10-30 12:37:56.244200</td>\n",
       "      <td>Phoenix</td>\n",
       "      <td>145</td>\n",
       "      <td>8</td>\n",
       "      <td>400.39</td>\n",
       "      <td>Company C</td>\n",
       "      <td>1.835256</td>\n",
       "      <td>2025-05-31 12:37:56.244200</td>\n",
       "    </tr>\n",
       "    <tr>\n",
       "      <th>1</th>\n",
       "      <td>event_2</td>\n",
       "      <td>workshop</td>\n",
       "      <td>2025-09-08 12:37:56.244200</td>\n",
       "      <td>Houston</td>\n",
       "      <td>304</td>\n",
       "      <td>2</td>\n",
       "      <td>39.72</td>\n",
       "      <td>Company C</td>\n",
       "      <td>3.110893</td>\n",
       "      <td>2025-05-22 12:37:56.244200</td>\n",
       "    </tr>\n",
       "    <tr>\n",
       "      <th>2</th>\n",
       "      <td>event_3</td>\n",
       "      <td>concert</td>\n",
       "      <td>2026-01-21 12:37:56.244200</td>\n",
       "      <td>Houston</td>\n",
       "      <td>377</td>\n",
       "      <td>3</td>\n",
       "      <td>116.11</td>\n",
       "      <td>Company C</td>\n",
       "      <td>4.199988</td>\n",
       "      <td>2025-05-28 12:37:56.244200</td>\n",
       "    </tr>\n",
       "    <tr>\n",
       "      <th>3</th>\n",
       "      <td>event_4</td>\n",
       "      <td>conference</td>\n",
       "      <td>2026-02-11 12:37:56.244200</td>\n",
       "      <td>New York</td>\n",
       "      <td>385</td>\n",
       "      <td>2</td>\n",
       "      <td>482.52</td>\n",
       "      <td>Company A</td>\n",
       "      <td>2.509972</td>\n",
       "      <td>2025-06-01 12:37:56.244200</td>\n",
       "    </tr>\n",
       "    <tr>\n",
       "      <th>4</th>\n",
       "      <td>event_5</td>\n",
       "      <td>webinar</td>\n",
       "      <td>2025-12-16 12:37:56.244200</td>\n",
       "      <td>Houston</td>\n",
       "      <td>413</td>\n",
       "      <td>1</td>\n",
       "      <td>412.97</td>\n",
       "      <td>Company A</td>\n",
       "      <td>1.188433</td>\n",
       "      <td>2025-06-13 12:37:56.244200</td>\n",
       "    </tr>\n",
       "  </tbody>\n",
       "</table>\n",
       "</div>"
      ],
      "text/plain": [
       "  event_id  event_type                  event_date  location  attendees  \\\n",
       "0  event_1    workshop  2025-10-30 12:37:56.244200   Phoenix        145   \n",
       "1  event_2    workshop  2025-09-08 12:37:56.244200   Houston        304   \n",
       "2  event_3     concert  2026-01-21 12:37:56.244200   Houston        377   \n",
       "3  event_4  conference  2026-02-11 12:37:56.244200  New York        385   \n",
       "4  event_5     webinar  2025-12-16 12:37:56.244200   Houston        413   \n",
       "\n",
       "   duration_hours  cost_per_attendee    sponsor  feedback_score  \\\n",
       "0               8             400.39  Company C        1.835256   \n",
       "1               2              39.72  Company C        3.110893   \n",
       "2               3             116.11  Company C        4.199988   \n",
       "3               2             482.52  Company A        2.509972   \n",
       "4               1             412.97  Company A        1.188433   \n",
       "\n",
       "             last_extraction  \n",
       "0 2025-05-31 12:37:56.244200  \n",
       "1 2025-05-22 12:37:56.244200  \n",
       "2 2025-05-28 12:37:56.244200  \n",
       "3 2025-06-01 12:37:56.244200  \n",
       "4 2025-06-13 12:37:56.244200  "
      ]
     },
     "execution_count": 53,
     "metadata": {},
     "output_type": "execute_result"
    }
   ],
   "source": [
    "# save transformed full dataset\n",
    "df_transformed_full.to_csv('transformed_full.csv', index=False)\n",
    "df_transformed_full.head()"
   ]
  },
  {
   "cell_type": "markdown",
   "id": "7a9874db",
   "metadata": {},
   "source": [
    "## Section 5 : Transform Incremental Data\n"
   ]
  },
  {
   "cell_type": "code",
   "execution_count": 42,
   "id": "3edab528",
   "metadata": {},
   "outputs": [
    {
     "name": "stdout",
     "output_type": "stream",
     "text": [
      "Missing values found in the dataset. Filling with forward fill method.\n",
      "Row count before transformation: 15\n",
      "Row count after transformation: 15\n"
     ]
    }
   ],
   "source": [
    "# Transformations for Incremental Extraction\n",
    "df_transformed_incremental = df_incremental.copy()\n",
    "\n",
    "# Transformation 1: Handle missing values and duplicate rows\n",
    "if df_transformed_incremental.isnull().values.any():\n",
    "    print(\"Missing values found in the dataset. Filling with forward fill method.\")\n",
    "else:\n",
    "    print(\"No missing values found in the dataset.\")\n",
    "    df_transformed_incremental['event_type'].fillna('unknown', inplace=True)\n",
    "    df_transformed_incremental['location'].fillna('unknown', inplace=True)\n",
    "rows_count_before = len(df_transformed_incremental)\n",
    "\n",
    "df_transformed_incremental.drop_duplicates(inplace=True)\n",
    "row_count_after = len(df_transformed_incremental)\n",
    "\n",
    "df_transformed_incremental.fillna(method='ffill', inplace=True)\n",
    "row_count_after = len(df_transformed_incremental)\n",
    "\n",
    "print(f\"Row count before transformation: {rows_count_before}\")\n",
    "print(f\"Row count after transformation: {row_count_after}\")"
   ]
  },
  {
   "cell_type": "code",
   "execution_count": 44,
   "id": "083f2525",
   "metadata": {},
   "outputs": [
    {
     "name": "stdout",
     "output_type": "stream",
     "text": [
      "Transformed DataFrame with total cost:\n",
      "    attendees  cost_per_attendee  total_cost\n",
      "4         413             412.97   170556.61\n",
      "6         130              84.42    10974.60\n",
      "7         262             368.00    96416.00\n",
      "10        433             210.97    91350.01\n",
      "11        117             427.95    50070.15\n",
      "20        327             453.56   148314.12\n",
      "21        161             333.31    53662.91\n",
      "22        327             125.67    41094.09\n",
      "25        311              50.14    15593.54\n",
      "27         83             367.70    30519.10\n",
      "28        494             477.76   236013.44\n",
      "40        297             458.39   136141.83\n",
      "42        237             130.94    31032.78\n",
      "45        328              93.38    30628.64\n",
      "46        458             270.43   123856.94\n"
     ]
    }
   ],
   "source": [
    "# Transformation 2: Enrichment - Total cost calculation\n",
    "df_transformed_incremental['total_cost'] = round(df_transformed_incremental['attendees'] * df_transformed_incremental['cost_per_attendee'], 2)\n",
    "if 'attendees' in df_transformed_incremental.columns and 'cost_per_attendee' in df_transformed_incremental.columns:\n",
    "    df_transformed_incremental['total_cost'] = round(df_transformed_incremental['attendees'] * df_transformed_incremental['cost_per_attendee'], 2)\n",
    "else:\n",
    "    print(\"Columns 'attendees' or 'cost_per_attendee' not found in DataFrame for total cost calculation.\")\n",
    "\n",
    "print(\"Transformed DataFrame with total cost:\")\n",
    "print(df_transformed_incremental[['attendees', 'cost_per_attendee', 'total_cost']])\n"
   ]
  },
  {
   "cell_type": "code",
   "execution_count": 47,
   "id": "96bd1946",
   "metadata": {},
   "outputs": [
    {
     "name": "stdout",
     "output_type": "stream",
     "text": [
      "Transformed DataFrame with event_date as string:\n",
      "    event_date\n",
      "4   2025-12-16\n",
      "6   2026-03-28\n",
      "7   2025-10-16\n",
      "10  2025-08-11\n",
      "11  2025-12-30\n",
      "20  2026-04-27\n",
      "21  2026-02-22\n",
      "22  2026-03-23\n",
      "25  2025-10-12\n",
      "27  2026-04-02\n",
      "28  2025-08-21\n",
      "40  2026-02-05\n",
      "42  2025-12-24\n",
      "45  2026-03-19\n",
      "46  2026-02-16\n"
     ]
    }
   ],
   "source": [
    "# Transformation 3: Structural - Convert event_date to datetime string format\n",
    "if 'event_date' in df_transformed_incremental.columns:\n",
    "    df_transformed_incremental['event_date'] = pd.to_datetime(df_transformed_incremental['event_date']).dt.strftime('%Y-%m-%d')\n",
    "else:\n",
    "    print(\"Column 'event_date' not found in DataFrame for conversion to datetime string format.\")\n",
    "print(\"Transformed DataFrame with event_date as string:\")\n",
    "print(df_transformed_incremental[['event_date']])"
   ]
  },
  {
   "cell_type": "code",
   "execution_count": 48,
   "id": "6cb098ae",
   "metadata": {},
   "outputs": [
    {
     "name": "stdout",
     "output_type": "stream",
     "text": [
      "Sample of transformed incremental data:\n",
      "    event_id event_type  event_date     location  attendees  duration_hours  \\\n",
      "45  event_46    webinar  2026-03-19      Houston        328               3   \n",
      "20  event_21    concert  2026-04-27      Phoenix        327               1   \n",
      "6    event_7   workshop  2026-03-28  Los Angeles        130               5   \n",
      "10  event_11   workshop  2025-08-11      Houston        433               6   \n",
      "22  event_23   workshop  2026-03-23  Los Angeles        327               1   \n",
      "\n",
      "    cost_per_attendee    sponsor  feedback_score            last_extraction  \\\n",
      "45              93.38  Company B        2.510312 2025-06-07 12:37:56.244200   \n",
      "20             453.56  Company B        2.690193 2025-06-04 12:37:56.244200   \n",
      "6               84.42  Company B        2.909601 2025-06-10 12:37:56.244200   \n",
      "10             210.97  Company A        4.117752 2025-06-11 12:37:56.244200   \n",
      "22             125.67  Company A        4.594836 2025-06-12 12:37:56.244200   \n",
      "\n",
      "    total_cost  \n",
      "45    30628.64  \n",
      "20   148314.12  \n",
      "6     10974.60  \n",
      "10    91350.01  \n",
      "22    41094.09  \n"
     ]
    }
   ],
   "source": [
    "# sample of transformed incremental data\n",
    "df_transformed_incremental_sample = df_transformed_incremental.sample(5)\n",
    "print(\"Sample of transformed incremental data:\")\n",
    "print(df_transformed_incremental_sample)"
   ]
  },
  {
   "cell_type": "code",
   "execution_count": 51,
   "id": "8c0dbb5c",
   "metadata": {},
   "outputs": [
    {
     "data": {
      "application/vnd.microsoft.datawrangler.viewer.v0+json": {
       "columns": [
        {
         "name": "index",
         "rawType": "int64",
         "type": "integer"
        },
        {
         "name": "event_id",
         "rawType": "object",
         "type": "string"
        },
        {
         "name": "event_type",
         "rawType": "object",
         "type": "string"
        },
        {
         "name": "event_date",
         "rawType": "object",
         "type": "string"
        },
        {
         "name": "location",
         "rawType": "object",
         "type": "string"
        },
        {
         "name": "attendees",
         "rawType": "int64",
         "type": "integer"
        },
        {
         "name": "duration_hours",
         "rawType": "int64",
         "type": "integer"
        },
        {
         "name": "cost_per_attendee",
         "rawType": "float64",
         "type": "float"
        },
        {
         "name": "sponsor",
         "rawType": "object",
         "type": "string"
        },
        {
         "name": "feedback_score",
         "rawType": "float64",
         "type": "float"
        },
        {
         "name": "last_extraction",
         "rawType": "datetime64[ns]",
         "type": "datetime"
        },
        {
         "name": "total_cost",
         "rawType": "float64",
         "type": "float"
        }
       ],
       "ref": "f41c9fe4-be84-44a6-a2b6-e05524b2aabd",
       "rows": [
        [
         "4",
         "event_5",
         "webinar",
         "2025-12-16",
         "Houston",
         "413",
         "1",
         "412.97",
         "Company A",
         "1.188433080670677",
         "2025-06-13 12:37:56.244200",
         "170556.61"
        ],
        [
         "6",
         "event_7",
         "workshop",
         "2026-03-28",
         "Los Angeles",
         "130",
         "5",
         "84.42",
         "Company B",
         "2.9096010408562085",
         "2025-06-10 12:37:56.244200",
         "10974.6"
        ],
        [
         "7",
         "event_8",
         "workshop",
         "2025-10-16",
         "Los Angeles",
         "262",
         "6",
         "368.0",
         "Company C",
         "1.9033321069610336",
         "2025-06-11 12:37:56.244200",
         "96416.0"
        ],
        [
         "10",
         "event_11",
         "workshop",
         "2025-08-11",
         "Houston",
         "433",
         "6",
         "210.97",
         "Company A",
         "4.117752027983816",
         "2025-06-11 12:37:56.244200",
         "91350.01"
        ],
        [
         "11",
         "event_12",
         "conference",
         "2025-12-30",
         "Phoenix",
         "117",
         "1",
         "427.95",
         "Company B",
         "4.993007263143296",
         "2025-06-11 12:37:56.244200",
         "50070.15"
        ]
       ],
       "shape": {
        "columns": 11,
        "rows": 5
       }
      },
      "text/html": [
       "<div>\n",
       "<style scoped>\n",
       "    .dataframe tbody tr th:only-of-type {\n",
       "        vertical-align: middle;\n",
       "    }\n",
       "\n",
       "    .dataframe tbody tr th {\n",
       "        vertical-align: top;\n",
       "    }\n",
       "\n",
       "    .dataframe thead th {\n",
       "        text-align: right;\n",
       "    }\n",
       "</style>\n",
       "<table border=\"1\" class=\"dataframe\">\n",
       "  <thead>\n",
       "    <tr style=\"text-align: right;\">\n",
       "      <th></th>\n",
       "      <th>event_id</th>\n",
       "      <th>event_type</th>\n",
       "      <th>event_date</th>\n",
       "      <th>location</th>\n",
       "      <th>attendees</th>\n",
       "      <th>duration_hours</th>\n",
       "      <th>cost_per_attendee</th>\n",
       "      <th>sponsor</th>\n",
       "      <th>feedback_score</th>\n",
       "      <th>last_extraction</th>\n",
       "      <th>total_cost</th>\n",
       "    </tr>\n",
       "  </thead>\n",
       "  <tbody>\n",
       "    <tr>\n",
       "      <th>4</th>\n",
       "      <td>event_5</td>\n",
       "      <td>webinar</td>\n",
       "      <td>2025-12-16</td>\n",
       "      <td>Houston</td>\n",
       "      <td>413</td>\n",
       "      <td>1</td>\n",
       "      <td>412.97</td>\n",
       "      <td>Company A</td>\n",
       "      <td>1.188433</td>\n",
       "      <td>2025-06-13 12:37:56.244200</td>\n",
       "      <td>170556.61</td>\n",
       "    </tr>\n",
       "    <tr>\n",
       "      <th>6</th>\n",
       "      <td>event_7</td>\n",
       "      <td>workshop</td>\n",
       "      <td>2026-03-28</td>\n",
       "      <td>Los Angeles</td>\n",
       "      <td>130</td>\n",
       "      <td>5</td>\n",
       "      <td>84.42</td>\n",
       "      <td>Company B</td>\n",
       "      <td>2.909601</td>\n",
       "      <td>2025-06-10 12:37:56.244200</td>\n",
       "      <td>10974.60</td>\n",
       "    </tr>\n",
       "    <tr>\n",
       "      <th>7</th>\n",
       "      <td>event_8</td>\n",
       "      <td>workshop</td>\n",
       "      <td>2025-10-16</td>\n",
       "      <td>Los Angeles</td>\n",
       "      <td>262</td>\n",
       "      <td>6</td>\n",
       "      <td>368.00</td>\n",
       "      <td>Company C</td>\n",
       "      <td>1.903332</td>\n",
       "      <td>2025-06-11 12:37:56.244200</td>\n",
       "      <td>96416.00</td>\n",
       "    </tr>\n",
       "    <tr>\n",
       "      <th>10</th>\n",
       "      <td>event_11</td>\n",
       "      <td>workshop</td>\n",
       "      <td>2025-08-11</td>\n",
       "      <td>Houston</td>\n",
       "      <td>433</td>\n",
       "      <td>6</td>\n",
       "      <td>210.97</td>\n",
       "      <td>Company A</td>\n",
       "      <td>4.117752</td>\n",
       "      <td>2025-06-11 12:37:56.244200</td>\n",
       "      <td>91350.01</td>\n",
       "    </tr>\n",
       "    <tr>\n",
       "      <th>11</th>\n",
       "      <td>event_12</td>\n",
       "      <td>conference</td>\n",
       "      <td>2025-12-30</td>\n",
       "      <td>Phoenix</td>\n",
       "      <td>117</td>\n",
       "      <td>1</td>\n",
       "      <td>427.95</td>\n",
       "      <td>Company B</td>\n",
       "      <td>4.993007</td>\n",
       "      <td>2025-06-11 12:37:56.244200</td>\n",
       "      <td>50070.15</td>\n",
       "    </tr>\n",
       "  </tbody>\n",
       "</table>\n",
       "</div>"
      ],
      "text/plain": [
       "    event_id  event_type  event_date     location  attendees  duration_hours  \\\n",
       "4    event_5     webinar  2025-12-16      Houston        413               1   \n",
       "6    event_7    workshop  2026-03-28  Los Angeles        130               5   \n",
       "7    event_8    workshop  2025-10-16  Los Angeles        262               6   \n",
       "10  event_11    workshop  2025-08-11      Houston        433               6   \n",
       "11  event_12  conference  2025-12-30      Phoenix        117               1   \n",
       "\n",
       "    cost_per_attendee    sponsor  feedback_score            last_extraction  \\\n",
       "4              412.97  Company A        1.188433 2025-06-13 12:37:56.244200   \n",
       "6               84.42  Company B        2.909601 2025-06-10 12:37:56.244200   \n",
       "7              368.00  Company C        1.903332 2025-06-11 12:37:56.244200   \n",
       "10             210.97  Company A        4.117752 2025-06-11 12:37:56.244200   \n",
       "11             427.95  Company B        4.993007 2025-06-11 12:37:56.244200   \n",
       "\n",
       "    total_cost  \n",
       "4    170556.61  \n",
       "6     10974.60  \n",
       "7     96416.00  \n",
       "10    91350.01  \n",
       "11    50070.15  "
      ]
     },
     "execution_count": 51,
     "metadata": {},
     "output_type": "execute_result"
    }
   ],
   "source": [
    "# save transformed incremental dataset\n",
    "df_transformed_incremental.to_csv('transformed_incremental_data.csv', index=False)\n",
    "df_transformed_incremental.head()"
   ]
  }
 ],
 "metadata": {
  "kernelspec": {
   "display_name": "Python 3",
   "language": "python",
   "name": "python3"
  },
  "language_info": {
   "codemirror_mode": {
    "name": "ipython",
    "version": 3
   },
   "file_extension": ".py",
   "mimetype": "text/x-python",
   "name": "python",
   "nbconvert_exporter": "python",
   "pygments_lexer": "ipython3",
   "version": "3.11.4"
  }
 },
 "nbformat": 4,
 "nbformat_minor": 5
}
