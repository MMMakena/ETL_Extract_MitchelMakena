{
 "cells": [
  {
   "cell_type": "code",
   "execution_count": 1,
   "id": "f3f209aa",
   "metadata": {},
   "outputs": [
    {
     "data": {
      "application/vnd.microsoft.datawrangler.viewer.v0+json": {
       "columns": [
        {
         "name": "index",
         "rawType": "int64",
         "type": "integer"
        },
        {
         "name": "event_id",
         "rawType": "object",
         "type": "string"
        },
        {
         "name": "event_type",
         "rawType": "object",
         "type": "string"
        },
        {
         "name": "event_date",
         "rawType": "datetime64[ns]",
         "type": "datetime"
        },
        {
         "name": "location",
         "rawType": "object",
         "type": "string"
        },
        {
         "name": "attendees",
         "rawType": "int64",
         "type": "integer"
        },
        {
         "name": "duration_hours",
         "rawType": "int64",
         "type": "integer"
        },
        {
         "name": "cost_per_attendee",
         "rawType": "float64",
         "type": "float"
        },
        {
         "name": "sponsor",
         "rawType": "object",
         "type": "string"
        },
        {
         "name": "feedback_score",
         "rawType": "float64",
         "type": "float"
        },
        {
         "name": "last_extraction",
         "rawType": "datetime64[ns]",
         "type": "datetime"
        }
       ],
       "ref": "323ac6c2-4350-4527-ba20-74c48bd3aee5",
       "rows": [
        [
         "0",
         "event_1",
         "concert",
         "2025-07-31 16:45:24.921576",
         "Los Angeles",
         "303",
         "8",
         "487.97",
         "Company C",
         "4.218419846124711",
         "2025-05-24 16:45:24.921576"
        ],
        [
         "1",
         "event_2",
         "webinar",
         "2025-06-21 16:45:24.921576",
         "Chicago",
         "237",
         "6",
         "36.84",
         "Company B",
         "2.6085472798320426",
         "2025-06-08 16:45:24.921576"
        ],
        [
         "2",
         "event_3",
         "workshop",
         "2025-10-19 16:45:24.921576",
         "Houston",
         "182",
         "3",
         "205.22",
         "None",
         "3.6283270586948535",
         "2025-06-10 16:45:24.921576"
        ],
        [
         "3",
         "event_4",
         "workshop",
         "2026-02-12 16:45:24.921576",
         "Los Angeles",
         "280",
         "4",
         "348.48",
         "Company B",
         "4.464241218608221",
         "2025-05-31 16:45:24.921576"
        ],
        [
         "4",
         "event_5",
         "concert",
         "2026-05-10 16:45:24.921576",
         "Phoenix",
         "94",
         "5",
         "287.62",
         "Company C",
         "4.018718055291018",
         "2025-05-20 16:45:24.921576"
        ]
       ],
       "shape": {
        "columns": 10,
        "rows": 5
       }
      },
      "text/html": [
       "<div>\n",
       "<style scoped>\n",
       "    .dataframe tbody tr th:only-of-type {\n",
       "        vertical-align: middle;\n",
       "    }\n",
       "\n",
       "    .dataframe tbody tr th {\n",
       "        vertical-align: top;\n",
       "    }\n",
       "\n",
       "    .dataframe thead th {\n",
       "        text-align: right;\n",
       "    }\n",
       "</style>\n",
       "<table border=\"1\" class=\"dataframe\">\n",
       "  <thead>\n",
       "    <tr style=\"text-align: right;\">\n",
       "      <th></th>\n",
       "      <th>event_id</th>\n",
       "      <th>event_type</th>\n",
       "      <th>event_date</th>\n",
       "      <th>location</th>\n",
       "      <th>attendees</th>\n",
       "      <th>duration_hours</th>\n",
       "      <th>cost_per_attendee</th>\n",
       "      <th>sponsor</th>\n",
       "      <th>feedback_score</th>\n",
       "      <th>last_extraction</th>\n",
       "    </tr>\n",
       "  </thead>\n",
       "  <tbody>\n",
       "    <tr>\n",
       "      <th>0</th>\n",
       "      <td>event_1</td>\n",
       "      <td>concert</td>\n",
       "      <td>2025-07-31 16:45:24.921576</td>\n",
       "      <td>Los Angeles</td>\n",
       "      <td>303</td>\n",
       "      <td>8</td>\n",
       "      <td>487.97</td>\n",
       "      <td>Company C</td>\n",
       "      <td>4.218420</td>\n",
       "      <td>2025-05-24 16:45:24.921576</td>\n",
       "    </tr>\n",
       "    <tr>\n",
       "      <th>1</th>\n",
       "      <td>event_2</td>\n",
       "      <td>webinar</td>\n",
       "      <td>2025-06-21 16:45:24.921576</td>\n",
       "      <td>Chicago</td>\n",
       "      <td>237</td>\n",
       "      <td>6</td>\n",
       "      <td>36.84</td>\n",
       "      <td>Company B</td>\n",
       "      <td>2.608547</td>\n",
       "      <td>2025-06-08 16:45:24.921576</td>\n",
       "    </tr>\n",
       "    <tr>\n",
       "      <th>2</th>\n",
       "      <td>event_3</td>\n",
       "      <td>workshop</td>\n",
       "      <td>2025-10-19 16:45:24.921576</td>\n",
       "      <td>Houston</td>\n",
       "      <td>182</td>\n",
       "      <td>3</td>\n",
       "      <td>205.22</td>\n",
       "      <td>None</td>\n",
       "      <td>3.628327</td>\n",
       "      <td>2025-06-10 16:45:24.921576</td>\n",
       "    </tr>\n",
       "    <tr>\n",
       "      <th>3</th>\n",
       "      <td>event_4</td>\n",
       "      <td>workshop</td>\n",
       "      <td>2026-02-12 16:45:24.921576</td>\n",
       "      <td>Los Angeles</td>\n",
       "      <td>280</td>\n",
       "      <td>4</td>\n",
       "      <td>348.48</td>\n",
       "      <td>Company B</td>\n",
       "      <td>4.464241</td>\n",
       "      <td>2025-05-31 16:45:24.921576</td>\n",
       "    </tr>\n",
       "    <tr>\n",
       "      <th>4</th>\n",
       "      <td>event_5</td>\n",
       "      <td>concert</td>\n",
       "      <td>2026-05-10 16:45:24.921576</td>\n",
       "      <td>Phoenix</td>\n",
       "      <td>94</td>\n",
       "      <td>5</td>\n",
       "      <td>287.62</td>\n",
       "      <td>Company C</td>\n",
       "      <td>4.018718</td>\n",
       "      <td>2025-05-20 16:45:24.921576</td>\n",
       "    </tr>\n",
       "  </tbody>\n",
       "</table>\n",
       "</div>"
      ],
      "text/plain": [
       "  event_id event_type                 event_date     location  attendees  \\\n",
       "0  event_1    concert 2025-07-31 16:45:24.921576  Los Angeles        303   \n",
       "1  event_2    webinar 2025-06-21 16:45:24.921576      Chicago        237   \n",
       "2  event_3   workshop 2025-10-19 16:45:24.921576      Houston        182   \n",
       "3  event_4   workshop 2026-02-12 16:45:24.921576  Los Angeles        280   \n",
       "4  event_5    concert 2026-05-10 16:45:24.921576      Phoenix         94   \n",
       "\n",
       "   duration_hours  cost_per_attendee    sponsor  feedback_score  \\\n",
       "0               8             487.97  Company C        4.218420   \n",
       "1               6              36.84  Company B        2.608547   \n",
       "2               3             205.22       None        3.628327   \n",
       "3               4             348.48  Company B        4.464241   \n",
       "4               5             287.62  Company C        4.018718   \n",
       "\n",
       "             last_extraction  \n",
       "0 2025-05-24 16:45:24.921576  \n",
       "1 2025-06-08 16:45:24.921576  \n",
       "2 2025-06-10 16:45:24.921576  \n",
       "3 2025-05-31 16:45:24.921576  \n",
       "4 2025-05-20 16:45:24.921576  "
      ]
     },
     "execution_count": 1,
     "metadata": {},
     "output_type": "execute_result"
    }
   ],
   "source": [
    "# Getting dataset for event management system\n",
    "import pandas as pd\n",
    "import numpy as np\n",
    "from datetime import datetime, timedelta\n",
    "import random\n",
    "\n",
    "# Simulate data of 50 events with random attributes\n",
    "num_events = 50\n",
    "data = {\n",
    "    'event_id': [f'event_{i+1}' for i in range(num_events)],\n",
    "    'event_type': [random.choice(['concert', 'conference', 'workshop', 'webinar']) for _ in range(num_events)],\n",
    "    'event_date': [datetime.now() + timedelta(days=random.randint(1, 365)) for _ in range(num_events)],\n",
    "    'location': [random.choice(['New York', 'Los Angeles', 'Chicago', 'Houston', 'Phoenix']) for _ in range(num_events)],\n",
    "    'attendees': [random.randint(50, 500) for _ in range(num_events)],\n",
    "    'duration_hours': [random.randint(1, 8) for _ in range(num_events)],\n",
    "    'cost_per_attendee': [round(random.uniform(10.0, 500.0), 2) for _ in range(num_events)],\n",
    "    'sponsor': [random.choice(['Company A', 'Company B', 'Company C', 'None']) for _ in range(num_events)],\n",
    "    'feedback_score': [random.uniform(1.0, 5.0) for _ in range(num_events)],\n",
    "    'last_extraction': [datetime.now() - timedelta(days=random.randint(0, 30)) for _ in range(num_events)],\n",
    "}\n",
    "df = pd.DataFrame(data)\n",
    "df.to_csv('event_dataset.csv', index=False)\n",
    "df.head()   \n"
   ]
  },
  {
   "cell_type": "markdown",
   "id": "607ba331",
   "metadata": {},
   "source": [
    "# FULL Extraction"
   ]
  },
  {
   "cell_type": "code",
   "execution_count": 2,
   "id": "3c0182f6",
   "metadata": {},
   "outputs": [
    {
     "name": "stdout",
     "output_type": "stream",
     "text": [
      "Extracted 50 rows fully.\n"
     ]
    },
    {
     "data": {
      "application/vnd.microsoft.datawrangler.viewer.v0+json": {
       "columns": [
        {
         "name": "index",
         "rawType": "int64",
         "type": "integer"
        },
        {
         "name": "event_id",
         "rawType": "object",
         "type": "string"
        },
        {
         "name": "event_type",
         "rawType": "object",
         "type": "string"
        },
        {
         "name": "event_date",
         "rawType": "object",
         "type": "string"
        },
        {
         "name": "location",
         "rawType": "object",
         "type": "string"
        },
        {
         "name": "attendees",
         "rawType": "int64",
         "type": "integer"
        },
        {
         "name": "duration_hours",
         "rawType": "int64",
         "type": "integer"
        },
        {
         "name": "cost_per_attendee",
         "rawType": "float64",
         "type": "float"
        },
        {
         "name": "sponsor",
         "rawType": "object",
         "type": "unknown"
        },
        {
         "name": "feedback_score",
         "rawType": "float64",
         "type": "float"
        },
        {
         "name": "last_extraction",
         "rawType": "datetime64[ns]",
         "type": "datetime"
        }
       ],
       "ref": "4d8092ff-918a-46ae-bb50-c0a84cbe00e0",
       "rows": [
        [
         "0",
         "event_1",
         "conference",
         "2026-05-22 17:37:31.804996",
         "Chicago",
         "405",
         "2",
         "412.83",
         "Company C",
         "4.280598395650843",
         "2025-05-12 17:37:31.805987"
        ],
        [
         "1",
         "event_2",
         "concert",
         "2026-05-23 17:37:31.804996",
         "Houston",
         "432",
         "8",
         "157.29",
         "Company C",
         "3.468362233577837",
         "2025-06-08 17:37:31.805987"
        ],
        [
         "2",
         "event_3",
         "conference",
         "2025-08-12 17:37:31.804996",
         "Houston",
         "440",
         "2",
         "268.59",
         "Company A",
         "3.4058292636204013",
         "2025-05-16 17:37:31.805987"
        ],
        [
         "3",
         "event_4",
         "webinar",
         "2026-02-26 17:37:31.804996",
         "New York",
         "70",
         "6",
         "67.94",
         "Company C",
         "2.127184580570399",
         "2025-05-26 17:37:31.805987"
        ],
        [
         "4",
         "event_5",
         "conference",
         "2026-01-24 17:37:31.804996",
         "Los Angeles",
         "165",
         "2",
         "116.43",
         null,
         "2.129281490036108",
         "2025-05-28 17:37:31.805987"
        ]
       ],
       "shape": {
        "columns": 10,
        "rows": 5
       }
      },
      "text/html": [
       "<div>\n",
       "<style scoped>\n",
       "    .dataframe tbody tr th:only-of-type {\n",
       "        vertical-align: middle;\n",
       "    }\n",
       "\n",
       "    .dataframe tbody tr th {\n",
       "        vertical-align: top;\n",
       "    }\n",
       "\n",
       "    .dataframe thead th {\n",
       "        text-align: right;\n",
       "    }\n",
       "</style>\n",
       "<table border=\"1\" class=\"dataframe\">\n",
       "  <thead>\n",
       "    <tr style=\"text-align: right;\">\n",
       "      <th></th>\n",
       "      <th>event_id</th>\n",
       "      <th>event_type</th>\n",
       "      <th>event_date</th>\n",
       "      <th>location</th>\n",
       "      <th>attendees</th>\n",
       "      <th>duration_hours</th>\n",
       "      <th>cost_per_attendee</th>\n",
       "      <th>sponsor</th>\n",
       "      <th>feedback_score</th>\n",
       "      <th>last_extraction</th>\n",
       "    </tr>\n",
       "  </thead>\n",
       "  <tbody>\n",
       "    <tr>\n",
       "      <th>0</th>\n",
       "      <td>event_1</td>\n",
       "      <td>conference</td>\n",
       "      <td>2026-05-22 17:37:31.804996</td>\n",
       "      <td>Chicago</td>\n",
       "      <td>405</td>\n",
       "      <td>2</td>\n",
       "      <td>412.83</td>\n",
       "      <td>Company C</td>\n",
       "      <td>4.280598</td>\n",
       "      <td>2025-05-12 17:37:31.805987</td>\n",
       "    </tr>\n",
       "    <tr>\n",
       "      <th>1</th>\n",
       "      <td>event_2</td>\n",
       "      <td>concert</td>\n",
       "      <td>2026-05-23 17:37:31.804996</td>\n",
       "      <td>Houston</td>\n",
       "      <td>432</td>\n",
       "      <td>8</td>\n",
       "      <td>157.29</td>\n",
       "      <td>Company C</td>\n",
       "      <td>3.468362</td>\n",
       "      <td>2025-06-08 17:37:31.805987</td>\n",
       "    </tr>\n",
       "    <tr>\n",
       "      <th>2</th>\n",
       "      <td>event_3</td>\n",
       "      <td>conference</td>\n",
       "      <td>2025-08-12 17:37:31.804996</td>\n",
       "      <td>Houston</td>\n",
       "      <td>440</td>\n",
       "      <td>2</td>\n",
       "      <td>268.59</td>\n",
       "      <td>Company A</td>\n",
       "      <td>3.405829</td>\n",
       "      <td>2025-05-16 17:37:31.805987</td>\n",
       "    </tr>\n",
       "    <tr>\n",
       "      <th>3</th>\n",
       "      <td>event_4</td>\n",
       "      <td>webinar</td>\n",
       "      <td>2026-02-26 17:37:31.804996</td>\n",
       "      <td>New York</td>\n",
       "      <td>70</td>\n",
       "      <td>6</td>\n",
       "      <td>67.94</td>\n",
       "      <td>Company C</td>\n",
       "      <td>2.127185</td>\n",
       "      <td>2025-05-26 17:37:31.805987</td>\n",
       "    </tr>\n",
       "    <tr>\n",
       "      <th>4</th>\n",
       "      <td>event_5</td>\n",
       "      <td>conference</td>\n",
       "      <td>2026-01-24 17:37:31.804996</td>\n",
       "      <td>Los Angeles</td>\n",
       "      <td>165</td>\n",
       "      <td>2</td>\n",
       "      <td>116.43</td>\n",
       "      <td>NaN</td>\n",
       "      <td>2.129281</td>\n",
       "      <td>2025-05-28 17:37:31.805987</td>\n",
       "    </tr>\n",
       "  </tbody>\n",
       "</table>\n",
       "</div>"
      ],
      "text/plain": [
       "  event_id  event_type                  event_date     location  attendees  \\\n",
       "0  event_1  conference  2026-05-22 17:37:31.804996      Chicago        405   \n",
       "1  event_2     concert  2026-05-23 17:37:31.804996      Houston        432   \n",
       "2  event_3  conference  2025-08-12 17:37:31.804996      Houston        440   \n",
       "3  event_4     webinar  2026-02-26 17:37:31.804996     New York         70   \n",
       "4  event_5  conference  2026-01-24 17:37:31.804996  Los Angeles        165   \n",
       "\n",
       "   duration_hours  cost_per_attendee    sponsor  feedback_score  \\\n",
       "0               2             412.83  Company C        4.280598   \n",
       "1               8             157.29  Company C        3.468362   \n",
       "2               2             268.59  Company A        3.405829   \n",
       "3               6              67.94  Company C        2.127185   \n",
       "4               2             116.43        NaN        2.129281   \n",
       "\n",
       "             last_extraction  \n",
       "0 2025-05-12 17:37:31.805987  \n",
       "1 2025-06-08 17:37:31.805987  \n",
       "2 2025-05-16 17:37:31.805987  \n",
       "3 2025-05-26 17:37:31.805987  \n",
       "4 2025-05-28 17:37:31.805987  "
      ]
     },
     "execution_count": 2,
     "metadata": {},
     "output_type": "execute_result"
    }
   ],
   "source": [
    "# Full Extraction\n",
    "df_full = pd.read_csv(\"event_dataset.csv\", parse_dates=[\"last_extraction\"])\n",
    "print(f\"Extracted {len(df_full)} rows fully.\")\n",
    "df_full.head()"
   ]
  },
  {
   "cell_type": "markdown",
   "id": "82394a91",
   "metadata": {},
   "source": [
    "# INCREMENTAL Extraction"
   ]
  },
  {
   "cell_type": "code",
   "execution_count": 3,
   "id": "cd566ea6",
   "metadata": {},
   "outputs": [],
   "source": [
    "# Set initial last extraction time (e.g., halfway through the data range)\n",
    "with open(\"last_extraction.txt\", \"w\") as f:\n",
    "    f.write(\"2025-06-04 12:00:00\") "
   ]
  },
  {
   "cell_type": "code",
   "execution_count": 4,
   "id": "21734fc2",
   "metadata": {},
   "outputs": [
    {
     "name": "stdout",
     "output_type": "stream",
     "text": [
      "Extracted 5  rows since last check.\n"
     ]
    },
    {
     "data": {
      "application/vnd.microsoft.datawrangler.viewer.v0+json": {
       "columns": [
        {
         "name": "index",
         "rawType": "int64",
         "type": "integer"
        },
        {
         "name": "event_id",
         "rawType": "object",
         "type": "string"
        },
        {
         "name": "event_type",
         "rawType": "object",
         "type": "string"
        },
        {
         "name": "event_date",
         "rawType": "object",
         "type": "string"
        },
        {
         "name": "location",
         "rawType": "object",
         "type": "string"
        },
        {
         "name": "attendees",
         "rawType": "int64",
         "type": "integer"
        },
        {
         "name": "duration_hours",
         "rawType": "int64",
         "type": "integer"
        },
        {
         "name": "cost_per_attendee",
         "rawType": "float64",
         "type": "float"
        },
        {
         "name": "sponsor",
         "rawType": "object",
         "type": "string"
        },
        {
         "name": "feedback_score",
         "rawType": "float64",
         "type": "float"
        },
        {
         "name": "last_extraction",
         "rawType": "datetime64[ns]",
         "type": "datetime"
        }
       ],
       "ref": "6c412fc3-93b1-4165-8368-c79e03673629",
       "rows": [
        [
         "1",
         "event_2",
         "concert",
         "2026-05-23 17:37:31.804996",
         "Houston",
         "432",
         "8",
         "157.29",
         "Company C",
         "3.468362233577837",
         "2025-06-08 17:37:31.805987"
        ],
        [
         "6",
         "event_7",
         "conference",
         "2026-01-24 17:37:31.804996",
         "Chicago",
         "448",
         "1",
         "177.73",
         "Company B",
         "4.952685744253056",
         "2025-06-04 17:37:31.805987"
        ],
        [
         "24",
         "event_25",
         "webinar",
         "2025-12-19 17:37:31.804996",
         "Houston",
         "177",
         "6",
         "197.43",
         "Company A",
         "4.809861948836129",
         "2025-06-07 17:37:31.805987"
        ],
        [
         "25",
         "event_26",
         "concert",
         "2025-12-20 17:37:31.804996",
         "Houston",
         "86",
         "2",
         "46.62",
         "Company A",
         "4.311970483451089",
         "2025-06-06 17:37:31.805987"
        ],
        [
         "35",
         "event_36",
         "workshop",
         "2025-10-10 17:37:31.804996",
         "Houston",
         "495",
         "3",
         "391.44",
         "Company C",
         "2.39354742548501",
         "2025-06-05 17:37:31.805987"
        ]
       ],
       "shape": {
        "columns": 10,
        "rows": 5
       }
      },
      "text/html": [
       "<div>\n",
       "<style scoped>\n",
       "    .dataframe tbody tr th:only-of-type {\n",
       "        vertical-align: middle;\n",
       "    }\n",
       "\n",
       "    .dataframe tbody tr th {\n",
       "        vertical-align: top;\n",
       "    }\n",
       "\n",
       "    .dataframe thead th {\n",
       "        text-align: right;\n",
       "    }\n",
       "</style>\n",
       "<table border=\"1\" class=\"dataframe\">\n",
       "  <thead>\n",
       "    <tr style=\"text-align: right;\">\n",
       "      <th></th>\n",
       "      <th>event_id</th>\n",
       "      <th>event_type</th>\n",
       "      <th>event_date</th>\n",
       "      <th>location</th>\n",
       "      <th>attendees</th>\n",
       "      <th>duration_hours</th>\n",
       "      <th>cost_per_attendee</th>\n",
       "      <th>sponsor</th>\n",
       "      <th>feedback_score</th>\n",
       "      <th>last_extraction</th>\n",
       "    </tr>\n",
       "  </thead>\n",
       "  <tbody>\n",
       "    <tr>\n",
       "      <th>1</th>\n",
       "      <td>event_2</td>\n",
       "      <td>concert</td>\n",
       "      <td>2026-05-23 17:37:31.804996</td>\n",
       "      <td>Houston</td>\n",
       "      <td>432</td>\n",
       "      <td>8</td>\n",
       "      <td>157.29</td>\n",
       "      <td>Company C</td>\n",
       "      <td>3.468362</td>\n",
       "      <td>2025-06-08 17:37:31.805987</td>\n",
       "    </tr>\n",
       "    <tr>\n",
       "      <th>6</th>\n",
       "      <td>event_7</td>\n",
       "      <td>conference</td>\n",
       "      <td>2026-01-24 17:37:31.804996</td>\n",
       "      <td>Chicago</td>\n",
       "      <td>448</td>\n",
       "      <td>1</td>\n",
       "      <td>177.73</td>\n",
       "      <td>Company B</td>\n",
       "      <td>4.952686</td>\n",
       "      <td>2025-06-04 17:37:31.805987</td>\n",
       "    </tr>\n",
       "    <tr>\n",
       "      <th>24</th>\n",
       "      <td>event_25</td>\n",
       "      <td>webinar</td>\n",
       "      <td>2025-12-19 17:37:31.804996</td>\n",
       "      <td>Houston</td>\n",
       "      <td>177</td>\n",
       "      <td>6</td>\n",
       "      <td>197.43</td>\n",
       "      <td>Company A</td>\n",
       "      <td>4.809862</td>\n",
       "      <td>2025-06-07 17:37:31.805987</td>\n",
       "    </tr>\n",
       "    <tr>\n",
       "      <th>25</th>\n",
       "      <td>event_26</td>\n",
       "      <td>concert</td>\n",
       "      <td>2025-12-20 17:37:31.804996</td>\n",
       "      <td>Houston</td>\n",
       "      <td>86</td>\n",
       "      <td>2</td>\n",
       "      <td>46.62</td>\n",
       "      <td>Company A</td>\n",
       "      <td>4.311970</td>\n",
       "      <td>2025-06-06 17:37:31.805987</td>\n",
       "    </tr>\n",
       "    <tr>\n",
       "      <th>35</th>\n",
       "      <td>event_36</td>\n",
       "      <td>workshop</td>\n",
       "      <td>2025-10-10 17:37:31.804996</td>\n",
       "      <td>Houston</td>\n",
       "      <td>495</td>\n",
       "      <td>3</td>\n",
       "      <td>391.44</td>\n",
       "      <td>Company C</td>\n",
       "      <td>2.393547</td>\n",
       "      <td>2025-06-05 17:37:31.805987</td>\n",
       "    </tr>\n",
       "  </tbody>\n",
       "</table>\n",
       "</div>"
      ],
      "text/plain": [
       "    event_id  event_type                  event_date location  attendees  \\\n",
       "1    event_2     concert  2026-05-23 17:37:31.804996  Houston        432   \n",
       "6    event_7  conference  2026-01-24 17:37:31.804996  Chicago        448   \n",
       "24  event_25     webinar  2025-12-19 17:37:31.804996  Houston        177   \n",
       "25  event_26     concert  2025-12-20 17:37:31.804996  Houston         86   \n",
       "35  event_36    workshop  2025-10-10 17:37:31.804996  Houston        495   \n",
       "\n",
       "    duration_hours  cost_per_attendee    sponsor  feedback_score  \\\n",
       "1                8             157.29  Company C        3.468362   \n",
       "6                1             177.73  Company B        4.952686   \n",
       "24               6             197.43  Company A        4.809862   \n",
       "25               2              46.62  Company A        4.311970   \n",
       "35               3             391.44  Company C        2.393547   \n",
       "\n",
       "              last_extraction  \n",
       "1  2025-06-08 17:37:31.805987  \n",
       "6  2025-06-04 17:37:31.805987  \n",
       "24 2025-06-07 17:37:31.805987  \n",
       "25 2025-06-06 17:37:31.805987  \n",
       "35 2025-06-05 17:37:31.805987  "
      ]
     },
     "execution_count": 4,
     "metadata": {},
     "output_type": "execute_result"
    }
   ],
   "source": [
    "# INCREMENTAL EXTRACTION\n",
    "with open(\"last_extraction.txt\", \"r\") as f:\n",
    "    last_extraction = f.read().strip()\n",
    "df = pd.read_csv(\"event_dataset.csv\", parse_dates=[\"last_extraction\"])\n",
    "last_extraction_time = pd.to_datetime(last_extraction)\n",
    "df_incremental = df[df['last_extraction'] > last_extraction_time]\n",
    "print(f\"Extracted {len(df_incremental)}  rows since last check.\")\n",
    "df_incremental.head()"
   ]
  },
  {
   "cell_type": "code",
   "execution_count": 5,
   "id": "602eccb1",
   "metadata": {},
   "outputs": [
    {
     "name": "stdout",
     "output_type": "stream",
     "text": [
      "Updated last_extraction.txt to 2025-06-08 17:37:31.805987\n"
     ]
    }
   ],
   "source": [
    "# Successful extraction\n",
    "# Get the most recent update\n",
    "new_checkpoint = df['last_extraction'].max()\n",
    "# Save it\n",
    "with open(\"last_extraction.txt\", \"w\") as f:\n",
    "    f.write(new_checkpoint.isoformat())\n",
    "print(f\"Updated last_extraction.txt to {new_checkpoint}\")"
   ]
  }
 ],
 "metadata": {
  "kernelspec": {
   "display_name": "Python 3",
   "language": "python",
   "name": "python3"
  },
  "language_info": {
   "codemirror_mode": {
    "name": "ipython",
    "version": 3
   },
   "file_extension": ".py",
   "mimetype": "text/x-python",
   "name": "python",
   "nbconvert_exporter": "python",
   "pygments_lexer": "ipython3",
   "version": "3.11.4"
  }
 },
 "nbformat": 4,
 "nbformat_minor": 5
}
