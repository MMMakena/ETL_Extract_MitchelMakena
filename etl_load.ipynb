{
 "cells": [
  {
   "cell_type": "code",
   "execution_count": 1,
   "id": "acba76b8",
   "metadata": {},
   "outputs": [],
   "source": [
    "# Ensure required libraries are installed\n",
    "#%pip install pandas pyarrow\n",
    "\n",
    "# Load necessary libraries\n",
    "import pandas as pd "
   ]
  },
  {
   "cell_type": "code",
   "execution_count": 2,
   "id": "45a44960",
   "metadata": {},
   "outputs": [],
   "source": [
    "# Load the data\n",
    "full_data=pd.read_csv('transformed_full.csv')\n",
    "incremental_data=pd.read_csv('transformed_incremental.csv')"
   ]
  },
  {
   "cell_type": "code",
   "execution_count": null,
   "id": "c2110f39",
   "metadata": {},
   "outputs": [
    {
     "name": "stdout",
     "output_type": "stream",
     "text": [
      "Data loaded and saved to parquet files successfully.\n"
     ]
    }
   ],
   "source": [
    "# save the full data to a parquet file\n",
    "full_data.to_parquet('loaded_data/full_data.parquet', index=False)\n",
    "# save the incremental data to a parquet file\n",
    "incremental_data.to_parquet('loaded_data/incremental_data.parquet', index=False)\n",
    "print(\"Data loaded and saved to parquet files successfully.\")"
   ]
  },
  {
   "cell_type": "code",
   "execution_count": 4,
   "id": "d7cbf21c",
   "metadata": {},
   "outputs": [
    {
     "name": "stdout",
     "output_type": "stream",
     "text": [
      "Full Data Preview:\n",
      "  event_id  event_type  event_date  location  attendees  duration_hours  \\\n",
      "0  event_1    workshop  2025-10-30   Phoenix        145               8   \n",
      "1  event_2    workshop  2025-09-08   Houston        304               2   \n",
      "2  event_3     concert  2026-01-21   Houston        377               3   \n",
      "3  event_4  conference  2026-02-11  New York        385               2   \n",
      "4  event_5     webinar  2025-12-16   Houston        413               1   \n",
      "\n",
      "   cost_per_attendee    sponsor  feedback_score             last_extraction  \\\n",
      "0             400.39  Company C        1.835256  2025-05-31 12:37:56.244200   \n",
      "1              39.72  Company C        3.110893  2025-05-22 12:37:56.244200   \n",
      "2             116.11  Company C        4.199988  2025-05-28 12:37:56.244200   \n",
      "3             482.52  Company A        2.509972  2025-06-01 12:37:56.244200   \n",
      "4             412.97  Company A        1.188433  2025-06-13 12:37:56.244200   \n",
      "\n",
      "   total_cost  \n",
      "0    58056.55  \n",
      "1    12074.88  \n",
      "2    43773.47  \n",
      "3   185770.20  \n",
      "4   170556.61  \n",
      "Incremental Data Preview:\n",
      "   event_id  event_type  event_date     location  attendees  duration_hours  \\\n",
      "0   event_5     webinar  2025-12-16      Houston        413               1   \n",
      "1   event_7    workshop  2026-03-28  Los Angeles        130               5   \n",
      "2   event_8    workshop  2025-10-16  Los Angeles        262               6   \n",
      "3  event_11    workshop  2025-08-11      Houston        433               6   \n",
      "4  event_12  conference  2025-12-30      Phoenix        117               1   \n",
      "\n",
      "   cost_per_attendee    sponsor  feedback_score             last_extraction  \\\n",
      "0             412.97  Company A        1.188433  2025-06-13 12:37:56.244200   \n",
      "1              84.42  Company B        2.909601  2025-06-10 12:37:56.244200   \n",
      "2             368.00  Company C        1.903332  2025-06-11 12:37:56.244200   \n",
      "3             210.97  Company A        4.117752  2025-06-11 12:37:56.244200   \n",
      "4             427.95  Company B        4.993007  2025-06-11 12:37:56.244200   \n",
      "\n",
      "   total_cost  \n",
      "0   170556.61  \n",
      "1    10974.60  \n",
      "2    96416.00  \n",
      "3    91350.01  \n",
      "4    50070.15  \n"
     ]
    }
   ],
   "source": [
    "# preview the stored parquet files\n",
    "loaded_full_data = pd.read_parquet('loaded_data/full_data.parquet')\n",
    "loaded_incremental_data = pd.read_parquet('loaded_data/incremental_data.parquet')\n",
    "print(\"Full Data Preview:\") \n",
    "print(loaded_full_data.head())\n",
    "print(\"Incremental Data Preview:\")\n",
    "print(loaded_incremental_data.head())"
   ]
  }
 ],
 "metadata": {
  "kernelspec": {
   "display_name": "Python 3",
   "language": "python",
   "name": "python3"
  },
  "language_info": {
   "codemirror_mode": {
    "name": "ipython",
    "version": 3
   },
   "file_extension": ".py",
   "mimetype": "text/x-python",
   "name": "python",
   "nbconvert_exporter": "python",
   "pygments_lexer": "ipython3",
   "version": "3.11.4"
  }
 },
 "nbformat": 4,
 "nbformat_minor": 5
}
